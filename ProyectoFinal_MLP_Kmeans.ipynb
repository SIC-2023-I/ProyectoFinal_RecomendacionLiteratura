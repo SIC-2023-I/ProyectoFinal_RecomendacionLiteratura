{
 "cells": [
  {
   "cell_type": "markdown",
   "metadata": {},
   "source": [
    "# Proyecto Final \n",
    "## Taller de Sistemas Inteligentes Computacionales (SiC)"
   ]
  },
  {
   "cell_type": "markdown",
   "metadata": {},
   "source": [
    "https://github.com/SIC-2023-I/ProyectoFinal_RecomendacionLiteratura.git"
   ]
  },
  {
   "cell_type": "code",
   "execution_count": 294,
   "metadata": {},
   "outputs": [],
   "source": [
    "import pandas as pd\n",
    "import plotly.express as px \n",
    "import streamlit as st \n",
    "\n",
    "import streamlit as st\n",
    "\n",
    "# Simple example: write some text to the app\n",
    "st.title('My Streamlit App')\n",
    "st.write('Hello, world!')\n",
    "\n",
    "# Run the app with `streamlit run app.py`\n"
   ]
  },
  {
   "cell_type": "code",
   "execution_count": 295,
   "metadata": {},
   "outputs": [
    {
     "data": {
      "text/html": [
       "<div>\n",
       "<style scoped>\n",
       "    .dataframe tbody tr th:only-of-type {\n",
       "        vertical-align: middle;\n",
       "    }\n",
       "\n",
       "    .dataframe tbody tr th {\n",
       "        vertical-align: top;\n",
       "    }\n",
       "\n",
       "    .dataframe thead th {\n",
       "        text-align: right;\n",
       "    }\n",
       "</style>\n",
       "<table border=\"1\" class=\"dataframe\">\n",
       "  <thead>\n",
       "    <tr style=\"text-align: right;\">\n",
       "      <th></th>\n",
       "      <th>PY</th>\n",
       "      <th>CR</th>\n",
       "      <th>TC</th>\n",
       "      <th>SO</th>\n",
       "      <th>DT</th>\n",
       "      <th>Articulo</th>\n",
       "      <th>DI</th>\n",
       "    </tr>\n",
       "  </thead>\n",
       "  <tbody>\n",
       "    <tr>\n",
       "      <th>0</th>\n",
       "      <td>2022</td>\n",
       "      <td>21</td>\n",
       "      <td>12</td>\n",
       "      <td>3</td>\n",
       "      <td>3</td>\n",
       "      <td>IMPACT OF ARTIFICIAL INTELLIGENCE INVESTMENT O...</td>\n",
       "      <td>10lnbahjk.12345</td>\n",
       "    </tr>\n",
       "    <tr>\n",
       "      <th>1</th>\n",
       "      <td>2022</td>\n",
       "      <td>114</td>\n",
       "      <td>1</td>\n",
       "      <td>3</td>\n",
       "      <td>3</td>\n",
       "      <td>A REVIEW ON MACHINE LEARNING FOR ASSET MANAGEMENT</td>\n",
       "      <td>101233344</td>\n",
       "    </tr>\n",
       "    <tr>\n",
       "      <th>2</th>\n",
       "      <td>2022</td>\n",
       "      <td>19</td>\n",
       "      <td>1</td>\n",
       "      <td>3</td>\n",
       "      <td>3</td>\n",
       "      <td>EVALUATION OF FOREX TRADING STRATEGIES BASED I...</td>\n",
       "      <td>100001.hjkla.223</td>\n",
       "    </tr>\n",
       "    <tr>\n",
       "      <th>3</th>\n",
       "      <td>2022</td>\n",
       "      <td>39</td>\n",
       "      <td>2</td>\n",
       "      <td>2</td>\n",
       "      <td>3</td>\n",
       "      <td>L1REGULARIZATION IN PORTFOLIO SELECTION WITH M...</td>\n",
       "      <td>12323.233.jklñ</td>\n",
       "    </tr>\n",
       "    <tr>\n",
       "      <th>4</th>\n",
       "      <td>2022</td>\n",
       "      <td>11</td>\n",
       "      <td>1</td>\n",
       "      <td>3</td>\n",
       "      <td>2</td>\n",
       "      <td>A CRITICAL SIGNIFICANCE OF USING MACHINE LEARN...</td>\n",
       "      <td>123211.98728lkjk</td>\n",
       "    </tr>\n",
       "    <tr>\n",
       "      <th>5</th>\n",
       "      <td>2022</td>\n",
       "      <td>39</td>\n",
       "      <td>1</td>\n",
       "      <td>3</td>\n",
       "      <td>2</td>\n",
       "      <td>A SYSTEM OF SYSTEMS APPROACH TO SMART BUILDING...</td>\n",
       "      <td>123.12345jdks</td>\n",
       "    </tr>\n",
       "    <tr>\n",
       "      <th>6</th>\n",
       "      <td>2022</td>\n",
       "      <td>135</td>\n",
       "      <td>39</td>\n",
       "      <td>2</td>\n",
       "      <td>3</td>\n",
       "      <td>INTENTION TO USE ANALYTICAL ARTIFICIAL INTELLI...</td>\n",
       "      <td>10000122o3ejd</td>\n",
       "    </tr>\n",
       "    <tr>\n",
       "      <th>7</th>\n",
       "      <td>2020</td>\n",
       "      <td>94</td>\n",
       "      <td>20</td>\n",
       "      <td>3</td>\n",
       "      <td>3</td>\n",
       "      <td>THE VIRTUE OF SIMPLICITY ON MACHINE LEARNING M...</td>\n",
       "      <td>1ojcjdks1</td>\n",
       "    </tr>\n",
       "    <tr>\n",
       "      <th>8</th>\n",
       "      <td>2020</td>\n",
       "      <td>8</td>\n",
       "      <td>2</td>\n",
       "      <td>2</td>\n",
       "      <td>3</td>\n",
       "      <td>APPLICATION OF ARTIFICIAL INTELLIGENCE IN IMPR...</td>\n",
       "      <td>1fidjosklñ</td>\n",
       "    </tr>\n",
       "    <tr>\n",
       "      <th>9</th>\n",
       "      <td>2020</td>\n",
       "      <td>102</td>\n",
       "      <td>2</td>\n",
       "      <td>3</td>\n",
       "      <td>2</td>\n",
       "      <td>LEARNING TREE STRUCTURES FROM NOISY DATA</td>\n",
       "      <td>17890dkjnskal</td>\n",
       "    </tr>\n",
       "    <tr>\n",
       "      <th>10</th>\n",
       "      <td>2019</td>\n",
       "      <td>69</td>\n",
       "      <td>36</td>\n",
       "      <td>2</td>\n",
       "      <td>3</td>\n",
       "      <td>MACHINE LEARNING FOR QUANTITATIVE FINANCE APPL...</td>\n",
       "      <td>1326589.</td>\n",
       "    </tr>\n",
       "    <tr>\n",
       "      <th>11</th>\n",
       "      <td>2018</td>\n",
       "      <td>36</td>\n",
       "      <td>26</td>\n",
       "      <td>3</td>\n",
       "      <td>3</td>\n",
       "      <td>1 Articulo</td>\n",
       "      <td>1ghjkl.1234</td>\n",
       "    </tr>\n",
       "    <tr>\n",
       "      <th>12</th>\n",
       "      <td>2017</td>\n",
       "      <td>7</td>\n",
       "      <td>86</td>\n",
       "      <td>3</td>\n",
       "      <td>3</td>\n",
       "      <td>2 Articulo</td>\n",
       "      <td>123456789</td>\n",
       "    </tr>\n",
       "    <tr>\n",
       "      <th>13</th>\n",
       "      <td>2016</td>\n",
       "      <td>31</td>\n",
       "      <td>5</td>\n",
       "      <td>2</td>\n",
       "      <td>3</td>\n",
       "      <td>3 Articulo</td>\n",
       "      <td>13677592</td>\n",
       "    </tr>\n",
       "    <tr>\n",
       "      <th>14</th>\n",
       "      <td>2015</td>\n",
       "      <td>25</td>\n",
       "      <td>26</td>\n",
       "      <td>2</td>\n",
       "      <td>3</td>\n",
       "      <td>4 Articulo</td>\n",
       "      <td>13.256.169</td>\n",
       "    </tr>\n",
       "    <tr>\n",
       "      <th>15</th>\n",
       "      <td>2014</td>\n",
       "      <td>25</td>\n",
       "      <td>85</td>\n",
       "      <td>3</td>\n",
       "      <td>2</td>\n",
       "      <td>5 Articulo</td>\n",
       "      <td>2345678</td>\n",
       "    </tr>\n",
       "    <tr>\n",
       "      <th>16</th>\n",
       "      <td>2013</td>\n",
       "      <td>74</td>\n",
       "      <td>533</td>\n",
       "      <td>3</td>\n",
       "      <td>2</td>\n",
       "      <td>6 Articulo</td>\n",
       "      <td>13469582</td>\n",
       "    </tr>\n",
       "    <tr>\n",
       "      <th>17</th>\n",
       "      <td>2012</td>\n",
       "      <td>36</td>\n",
       "      <td>23</td>\n",
       "      <td>3</td>\n",
       "      <td>3</td>\n",
       "      <td>7 Articulo</td>\n",
       "      <td>34536789</td>\n",
       "    </tr>\n",
       "    <tr>\n",
       "      <th>18</th>\n",
       "      <td>2011</td>\n",
       "      <td>62</td>\n",
       "      <td>14</td>\n",
       "      <td>3</td>\n",
       "      <td>3</td>\n",
       "      <td>8 Articulo</td>\n",
       "      <td>136568.52.4</td>\n",
       "    </tr>\n",
       "    <tr>\n",
       "      <th>19</th>\n",
       "      <td>2010</td>\n",
       "      <td>25</td>\n",
       "      <td>46</td>\n",
       "      <td>1</td>\n",
       "      <td>3</td>\n",
       "      <td>9 Articulo</td>\n",
       "      <td>1.325.524</td>\n",
       "    </tr>\n",
       "    <tr>\n",
       "      <th>20</th>\n",
       "      <td>2009</td>\n",
       "      <td>84</td>\n",
       "      <td>75</td>\n",
       "      <td>3</td>\n",
       "      <td>3</td>\n",
       "      <td>10 Articulo</td>\n",
       "      <td>104657369</td>\n",
       "    </tr>\n",
       "    <tr>\n",
       "      <th>21</th>\n",
       "      <td>2008</td>\n",
       "      <td>45</td>\n",
       "      <td>63</td>\n",
       "      <td>3</td>\n",
       "      <td>3</td>\n",
       "      <td>11 Articulo</td>\n",
       "      <td>136.452.128</td>\n",
       "    </tr>\n",
       "    <tr>\n",
       "      <th>22</th>\n",
       "      <td>2007</td>\n",
       "      <td>1</td>\n",
       "      <td>83</td>\n",
       "      <td>2</td>\n",
       "      <td>1</td>\n",
       "      <td>12 Articulo</td>\n",
       "      <td>98765345</td>\n",
       "    </tr>\n",
       "    <tr>\n",
       "      <th>23</th>\n",
       "      <td>2006</td>\n",
       "      <td>4</td>\n",
       "      <td>18</td>\n",
       "      <td>1</td>\n",
       "      <td>2</td>\n",
       "      <td>13 Articulo</td>\n",
       "      <td>13256894</td>\n",
       "    </tr>\n",
       "    <tr>\n",
       "      <th>24</th>\n",
       "      <td>2005</td>\n",
       "      <td>58</td>\n",
       "      <td>97</td>\n",
       "      <td>3</td>\n",
       "      <td>2</td>\n",
       "      <td>14 Articulo</td>\n",
       "      <td>132455.8</td>\n",
       "    </tr>\n",
       "    <tr>\n",
       "      <th>25</th>\n",
       "      <td>2004</td>\n",
       "      <td>5</td>\n",
       "      <td>14</td>\n",
       "      <td>2</td>\n",
       "      <td>1</td>\n",
       "      <td>15 Articulo</td>\n",
       "      <td>14753451</td>\n",
       "    </tr>\n",
       "    <tr>\n",
       "      <th>26</th>\n",
       "      <td>2003</td>\n",
       "      <td>745</td>\n",
       "      <td>83</td>\n",
       "      <td>3</td>\n",
       "      <td>3</td>\n",
       "      <td>16 Articulo</td>\n",
       "      <td>10.45664325.2</td>\n",
       "    </tr>\n",
       "    <tr>\n",
       "      <th>27</th>\n",
       "      <td>2002</td>\n",
       "      <td>82</td>\n",
       "      <td>46</td>\n",
       "      <td>3</td>\n",
       "      <td>3</td>\n",
       "      <td>17 Articulo</td>\n",
       "      <td>13245.82.</td>\n",
       "    </tr>\n",
       "    <tr>\n",
       "      <th>28</th>\n",
       "      <td>2001</td>\n",
       "      <td>55</td>\n",
       "      <td>37</td>\n",
       "      <td>3</td>\n",
       "      <td>3</td>\n",
       "      <td>18 Articulo</td>\n",
       "      <td>335.674.546.457</td>\n",
       "    </tr>\n",
       "    <tr>\n",
       "      <th>29</th>\n",
       "      <td>2000</td>\n",
       "      <td>62</td>\n",
       "      <td>14</td>\n",
       "      <td>3</td>\n",
       "      <td>3</td>\n",
       "      <td>19 Articulo</td>\n",
       "      <td>321.434.675</td>\n",
       "    </tr>\n",
       "    <tr>\n",
       "      <th>30</th>\n",
       "      <td>1999</td>\n",
       "      <td>11</td>\n",
       "      <td>29</td>\n",
       "      <td>3</td>\n",
       "      <td>3</td>\n",
       "      <td>20 Articulo</td>\n",
       "      <td>423123.t</td>\n",
       "    </tr>\n",
       "    <tr>\n",
       "      <th>31</th>\n",
       "      <td>1998</td>\n",
       "      <td>25</td>\n",
       "      <td>37</td>\n",
       "      <td>2</td>\n",
       "      <td>3</td>\n",
       "      <td>21 Articulo</td>\n",
       "      <td>32145.ert</td>\n",
       "    </tr>\n",
       "    <tr>\n",
       "      <th>32</th>\n",
       "      <td>1997</td>\n",
       "      <td>82</td>\n",
       "      <td>35</td>\n",
       "      <td>3</td>\n",
       "      <td>2</td>\n",
       "      <td>22 Articulo</td>\n",
       "      <td>2134526.sdfgd</td>\n",
       "    </tr>\n",
       "    <tr>\n",
       "      <th>33</th>\n",
       "      <td>1996</td>\n",
       "      <td>41</td>\n",
       "      <td>12</td>\n",
       "      <td>3</td>\n",
       "      <td>3</td>\n",
       "      <td>23 Articulo</td>\n",
       "      <td>2.dfghfj.dfgs</td>\n",
       "    </tr>\n",
       "    <tr>\n",
       "      <th>34</th>\n",
       "      <td>1998</td>\n",
       "      <td>1</td>\n",
       "      <td>1</td>\n",
       "      <td>2</td>\n",
       "      <td>3</td>\n",
       "      <td>Defining folklore: Mestizo and indigenous iden...</td>\n",
       "      <td>223456.dfasgdh</td>\n",
       "    </tr>\n",
       "    <tr>\n",
       "      <th>35</th>\n",
       "      <td>1997</td>\n",
       "      <td>217</td>\n",
       "      <td>8</td>\n",
       "      <td>1</td>\n",
       "      <td>3</td>\n",
       "      <td>Trafficking in Men: The Anthropology of Mascul...</td>\n",
       "      <td>43526.dasfgh</td>\n",
       "    </tr>\n",
       "    <tr>\n",
       "      <th>36</th>\n",
       "      <td>1996</td>\n",
       "      <td>0</td>\n",
       "      <td>4</td>\n",
       "      <td>3</td>\n",
       "      <td>3</td>\n",
       "      <td>Religious plurality in Latin America [Pluralit...</td>\n",
       "      <td>341256.dfgdh</td>\n",
       "    </tr>\n",
       "    <tr>\n",
       "      <th>37</th>\n",
       "      <td>1983</td>\n",
       "      <td>163</td>\n",
       "      <td>2</td>\n",
       "      <td>3</td>\n",
       "      <td>3</td>\n",
       "      <td>Health interview surveys in developing countri...</td>\n",
       "      <td>21345.efrg</td>\n",
       "    </tr>\n",
       "    <tr>\n",
       "      <th>38</th>\n",
       "      <td>1982</td>\n",
       "      <td>51</td>\n",
       "      <td>7</td>\n",
       "      <td>2</td>\n",
       "      <td>3</td>\n",
       "      <td>Public health impact of a snow disaster.</td>\n",
       "      <td>341256.rght</td>\n",
       "    </tr>\n",
       "    <tr>\n",
       "      <th>39</th>\n",
       "      <td>1982</td>\n",
       "      <td>52</td>\n",
       "      <td>1</td>\n",
       "      <td>2</td>\n",
       "      <td>3</td>\n",
       "      <td>60 years of health care in the USSR [Casopis l...</td>\n",
       "      <td>231456.fdgh</td>\n",
       "    </tr>\n",
       "    <tr>\n",
       "      <th>40</th>\n",
       "      <td>1982</td>\n",
       "      <td>4</td>\n",
       "      <td>26</td>\n",
       "      <td>2</td>\n",
       "      <td>3</td>\n",
       "      <td>Oxidative metabolism of xenobiotics during pre...</td>\n",
       "      <td>1324695.5</td>\n",
       "    </tr>\n",
       "    <tr>\n",
       "      <th>41</th>\n",
       "      <td>1982</td>\n",
       "      <td>251</td>\n",
       "      <td>1</td>\n",
       "      <td>3</td>\n",
       "      <td>3</td>\n",
       "      <td>Evaluation of the administrative compliance co...</td>\n",
       "      <td>316257.85</td>\n",
       "    </tr>\n",
       "  </tbody>\n",
       "</table>\n",
       "</div>"
      ],
      "text/plain": [
       "      PY   CR   TC  SO  DT                                           Articulo  \\\n",
       "0   2022   21   12   3   3  IMPACT OF ARTIFICIAL INTELLIGENCE INVESTMENT O...   \n",
       "1   2022  114    1   3   3  A REVIEW ON MACHINE LEARNING FOR ASSET MANAGEMENT   \n",
       "2   2022   19    1   3   3  EVALUATION OF FOREX TRADING STRATEGIES BASED I...   \n",
       "3   2022   39    2   2   3  L1REGULARIZATION IN PORTFOLIO SELECTION WITH M...   \n",
       "4   2022   11    1   3   2  A CRITICAL SIGNIFICANCE OF USING MACHINE LEARN...   \n",
       "5   2022   39    1   3   2  A SYSTEM OF SYSTEMS APPROACH TO SMART BUILDING...   \n",
       "6   2022  135   39   2   3  INTENTION TO USE ANALYTICAL ARTIFICIAL INTELLI...   \n",
       "7   2020   94   20   3   3  THE VIRTUE OF SIMPLICITY ON MACHINE LEARNING M...   \n",
       "8   2020    8    2   2   3  APPLICATION OF ARTIFICIAL INTELLIGENCE IN IMPR...   \n",
       "9   2020  102    2   3   2           LEARNING TREE STRUCTURES FROM NOISY DATA   \n",
       "10  2019   69   36   2   3  MACHINE LEARNING FOR QUANTITATIVE FINANCE APPL...   \n",
       "11  2018   36   26   3   3                                         1 Articulo   \n",
       "12  2017    7   86   3   3                                         2 Articulo   \n",
       "13  2016   31    5   2   3                                         3 Articulo   \n",
       "14  2015   25   26   2   3                                         4 Articulo   \n",
       "15  2014   25   85   3   2                                         5 Articulo   \n",
       "16  2013   74  533   3   2                                         6 Articulo   \n",
       "17  2012   36   23   3   3                                         7 Articulo   \n",
       "18  2011   62   14   3   3                                         8 Articulo   \n",
       "19  2010   25   46   1   3                                         9 Articulo   \n",
       "20  2009   84   75   3   3                                        10 Articulo   \n",
       "21  2008   45   63   3   3                                        11 Articulo   \n",
       "22  2007    1   83   2   1                                        12 Articulo   \n",
       "23  2006    4   18   1   2                                        13 Articulo   \n",
       "24  2005   58   97   3   2                                        14 Articulo   \n",
       "25  2004    5   14   2   1                                        15 Articulo   \n",
       "26  2003  745   83   3   3                                        16 Articulo   \n",
       "27  2002   82   46   3   3                                        17 Articulo   \n",
       "28  2001   55   37   3   3                                        18 Articulo   \n",
       "29  2000   62   14   3   3                                        19 Articulo   \n",
       "30  1999   11   29   3   3                                        20 Articulo   \n",
       "31  1998   25   37   2   3                                        21 Articulo   \n",
       "32  1997   82   35   3   2                                        22 Articulo   \n",
       "33  1996   41   12   3   3                                        23 Articulo   \n",
       "34  1998    1    1   2   3  Defining folklore: Mestizo and indigenous iden...   \n",
       "35  1997  217    8   1   3  Trafficking in Men: The Anthropology of Mascul...   \n",
       "36  1996    0    4   3   3  Religious plurality in Latin America [Pluralit...   \n",
       "37  1983  163    2   3   3  Health interview surveys in developing countri...   \n",
       "38  1982   51    7   2   3           Public health impact of a snow disaster.   \n",
       "39  1982   52    1   2   3  60 years of health care in the USSR [Casopis l...   \n",
       "40  1982    4   26   2   3  Oxidative metabolism of xenobiotics during pre...   \n",
       "41  1982  251    1   3   3  Evaluation of the administrative compliance co...   \n",
       "\n",
       "                  DI  \n",
       "0    10lnbahjk.12345  \n",
       "1          101233344  \n",
       "2   100001.hjkla.223  \n",
       "3     12323.233.jklñ  \n",
       "4   123211.98728lkjk  \n",
       "5      123.12345jdks  \n",
       "6      10000122o3ejd  \n",
       "7          1ojcjdks1  \n",
       "8         1fidjosklñ  \n",
       "9      17890dkjnskal  \n",
       "10          1326589.  \n",
       "11       1ghjkl.1234  \n",
       "12         123456789  \n",
       "13          13677592  \n",
       "14        13.256.169  \n",
       "15           2345678  \n",
       "16          13469582  \n",
       "17          34536789  \n",
       "18       136568.52.4  \n",
       "19         1.325.524  \n",
       "20         104657369  \n",
       "21       136.452.128  \n",
       "22          98765345  \n",
       "23          13256894  \n",
       "24          132455.8  \n",
       "25          14753451  \n",
       "26     10.45664325.2  \n",
       "27         13245.82.  \n",
       "28   335.674.546.457  \n",
       "29       321.434.675  \n",
       "30          423123.t  \n",
       "31         32145.ert  \n",
       "32     2134526.sdfgd  \n",
       "33     2.dfghfj.dfgs  \n",
       "34    223456.dfasgdh  \n",
       "35      43526.dasfgh  \n",
       "36      341256.dfgdh  \n",
       "37        21345.efrg  \n",
       "38       341256.rght  \n",
       "39       231456.fdgh  \n",
       "40         1324695.5  \n",
       "41         316257.85  "
      ]
     },
     "execution_count": 295,
     "metadata": {},
     "output_type": "execute_result"
    }
   ],
   "source": [
    "data = pd.read_csv(\"DataSetProyecto.csv\", sep =',')\n",
    "data1 = pd.read_csv(\"DataSetProyecto.csv\", sep =',')\n",
    "data#['CR','DT','PY','SO','TC','DI','AU','TI']"
   ]
  },
  {
   "cell_type": "code",
   "execution_count": 296,
   "metadata": {},
   "outputs": [],
   "source": [
    "#data['CR','DT','PY','SO','TC']"
   ]
  },
  {
   "cell_type": "code",
   "execution_count": 315,
   "metadata": {},
   "outputs": [
    {
     "data": {
      "text/html": [
       "<div>\n",
       "<style scoped>\n",
       "    .dataframe tbody tr th:only-of-type {\n",
       "        vertical-align: middle;\n",
       "    }\n",
       "\n",
       "    .dataframe tbody tr th {\n",
       "        vertical-align: top;\n",
       "    }\n",
       "\n",
       "    .dataframe thead th {\n",
       "        text-align: right;\n",
       "    }\n",
       "</style>\n",
       "<table border=\"1\" class=\"dataframe\">\n",
       "  <thead>\n",
       "    <tr style=\"text-align: right;\">\n",
       "      <th></th>\n",
       "      <th>PY</th>\n",
       "      <th>CR</th>\n",
       "      <th>TC</th>\n",
       "      <th>SO</th>\n",
       "      <th>DT</th>\n",
       "      <th>cluster</th>\n",
       "      <th>label</th>\n",
       "    </tr>\n",
       "  </thead>\n",
       "  <tbody>\n",
       "    <tr>\n",
       "      <th>0</th>\n",
       "      <td>2022</td>\n",
       "      <td>21</td>\n",
       "      <td>12</td>\n",
       "      <td>3</td>\n",
       "      <td>3</td>\n",
       "      <td>0</td>\n",
       "      <td>Raiz</td>\n",
       "    </tr>\n",
       "    <tr>\n",
       "      <th>1</th>\n",
       "      <td>2022</td>\n",
       "      <td>114</td>\n",
       "      <td>1</td>\n",
       "      <td>3</td>\n",
       "      <td>3</td>\n",
       "      <td>0</td>\n",
       "      <td>Raiz</td>\n",
       "    </tr>\n",
       "    <tr>\n",
       "      <th>2</th>\n",
       "      <td>2022</td>\n",
       "      <td>19</td>\n",
       "      <td>1</td>\n",
       "      <td>3</td>\n",
       "      <td>3</td>\n",
       "      <td>0</td>\n",
       "      <td>Raiz</td>\n",
       "    </tr>\n",
       "    <tr>\n",
       "      <th>3</th>\n",
       "      <td>2022</td>\n",
       "      <td>39</td>\n",
       "      <td>2</td>\n",
       "      <td>2</td>\n",
       "      <td>3</td>\n",
       "      <td>0</td>\n",
       "      <td>Raiz</td>\n",
       "    </tr>\n",
       "    <tr>\n",
       "      <th>4</th>\n",
       "      <td>2022</td>\n",
       "      <td>11</td>\n",
       "      <td>1</td>\n",
       "      <td>3</td>\n",
       "      <td>2</td>\n",
       "      <td>0</td>\n",
       "      <td>Raiz</td>\n",
       "    </tr>\n",
       "    <tr>\n",
       "      <th>5</th>\n",
       "      <td>2022</td>\n",
       "      <td>39</td>\n",
       "      <td>1</td>\n",
       "      <td>3</td>\n",
       "      <td>2</td>\n",
       "      <td>0</td>\n",
       "      <td>Raiz</td>\n",
       "    </tr>\n",
       "    <tr>\n",
       "      <th>6</th>\n",
       "      <td>2022</td>\n",
       "      <td>135</td>\n",
       "      <td>39</td>\n",
       "      <td>2</td>\n",
       "      <td>3</td>\n",
       "      <td>0</td>\n",
       "      <td>Raiz</td>\n",
       "    </tr>\n",
       "    <tr>\n",
       "      <th>7</th>\n",
       "      <td>2020</td>\n",
       "      <td>94</td>\n",
       "      <td>20</td>\n",
       "      <td>3</td>\n",
       "      <td>3</td>\n",
       "      <td>0</td>\n",
       "      <td>Raiz</td>\n",
       "    </tr>\n",
       "    <tr>\n",
       "      <th>8</th>\n",
       "      <td>2020</td>\n",
       "      <td>8</td>\n",
       "      <td>2</td>\n",
       "      <td>2</td>\n",
       "      <td>3</td>\n",
       "      <td>0</td>\n",
       "      <td>Raiz</td>\n",
       "    </tr>\n",
       "    <tr>\n",
       "      <th>9</th>\n",
       "      <td>2020</td>\n",
       "      <td>102</td>\n",
       "      <td>2</td>\n",
       "      <td>3</td>\n",
       "      <td>2</td>\n",
       "      <td>0</td>\n",
       "      <td>Raiz</td>\n",
       "    </tr>\n",
       "    <tr>\n",
       "      <th>10</th>\n",
       "      <td>2019</td>\n",
       "      <td>69</td>\n",
       "      <td>36</td>\n",
       "      <td>2</td>\n",
       "      <td>3</td>\n",
       "      <td>0</td>\n",
       "      <td>Raiz</td>\n",
       "    </tr>\n",
       "    <tr>\n",
       "      <th>11</th>\n",
       "      <td>2018</td>\n",
       "      <td>36</td>\n",
       "      <td>26</td>\n",
       "      <td>3</td>\n",
       "      <td>3</td>\n",
       "      <td>0</td>\n",
       "      <td>Raiz</td>\n",
       "    </tr>\n",
       "    <tr>\n",
       "      <th>12</th>\n",
       "      <td>2017</td>\n",
       "      <td>7</td>\n",
       "      <td>86</td>\n",
       "      <td>3</td>\n",
       "      <td>3</td>\n",
       "      <td>0</td>\n",
       "      <td>Raiz</td>\n",
       "    </tr>\n",
       "    <tr>\n",
       "      <th>13</th>\n",
       "      <td>2016</td>\n",
       "      <td>31</td>\n",
       "      <td>5</td>\n",
       "      <td>2</td>\n",
       "      <td>3</td>\n",
       "      <td>0</td>\n",
       "      <td>Raiz</td>\n",
       "    </tr>\n",
       "    <tr>\n",
       "      <th>14</th>\n",
       "      <td>2015</td>\n",
       "      <td>25</td>\n",
       "      <td>26</td>\n",
       "      <td>2</td>\n",
       "      <td>3</td>\n",
       "      <td>0</td>\n",
       "      <td>Raiz</td>\n",
       "    </tr>\n",
       "    <tr>\n",
       "      <th>15</th>\n",
       "      <td>2014</td>\n",
       "      <td>25</td>\n",
       "      <td>85</td>\n",
       "      <td>3</td>\n",
       "      <td>2</td>\n",
       "      <td>0</td>\n",
       "      <td>Raiz</td>\n",
       "    </tr>\n",
       "    <tr>\n",
       "      <th>16</th>\n",
       "      <td>2013</td>\n",
       "      <td>74</td>\n",
       "      <td>533</td>\n",
       "      <td>3</td>\n",
       "      <td>2</td>\n",
       "      <td>2</td>\n",
       "      <td>Hojas</td>\n",
       "    </tr>\n",
       "    <tr>\n",
       "      <th>17</th>\n",
       "      <td>2012</td>\n",
       "      <td>36</td>\n",
       "      <td>23</td>\n",
       "      <td>3</td>\n",
       "      <td>3</td>\n",
       "      <td>0</td>\n",
       "      <td>Raiz</td>\n",
       "    </tr>\n",
       "    <tr>\n",
       "      <th>18</th>\n",
       "      <td>2011</td>\n",
       "      <td>62</td>\n",
       "      <td>14</td>\n",
       "      <td>3</td>\n",
       "      <td>3</td>\n",
       "      <td>0</td>\n",
       "      <td>Raiz</td>\n",
       "    </tr>\n",
       "    <tr>\n",
       "      <th>19</th>\n",
       "      <td>2010</td>\n",
       "      <td>25</td>\n",
       "      <td>46</td>\n",
       "      <td>1</td>\n",
       "      <td>3</td>\n",
       "      <td>1</td>\n",
       "      <td>Tronco</td>\n",
       "    </tr>\n",
       "    <tr>\n",
       "      <th>20</th>\n",
       "      <td>2009</td>\n",
       "      <td>84</td>\n",
       "      <td>75</td>\n",
       "      <td>3</td>\n",
       "      <td>3</td>\n",
       "      <td>0</td>\n",
       "      <td>Raiz</td>\n",
       "    </tr>\n",
       "    <tr>\n",
       "      <th>21</th>\n",
       "      <td>2008</td>\n",
       "      <td>45</td>\n",
       "      <td>63</td>\n",
       "      <td>3</td>\n",
       "      <td>3</td>\n",
       "      <td>0</td>\n",
       "      <td>Raiz</td>\n",
       "    </tr>\n",
       "    <tr>\n",
       "      <th>22</th>\n",
       "      <td>2007</td>\n",
       "      <td>1</td>\n",
       "      <td>83</td>\n",
       "      <td>2</td>\n",
       "      <td>1</td>\n",
       "      <td>1</td>\n",
       "      <td>Tronco</td>\n",
       "    </tr>\n",
       "    <tr>\n",
       "      <th>23</th>\n",
       "      <td>2006</td>\n",
       "      <td>4</td>\n",
       "      <td>18</td>\n",
       "      <td>1</td>\n",
       "      <td>2</td>\n",
       "      <td>1</td>\n",
       "      <td>Tronco</td>\n",
       "    </tr>\n",
       "    <tr>\n",
       "      <th>24</th>\n",
       "      <td>2005</td>\n",
       "      <td>58</td>\n",
       "      <td>97</td>\n",
       "      <td>3</td>\n",
       "      <td>2</td>\n",
       "      <td>0</td>\n",
       "      <td>Raiz</td>\n",
       "    </tr>\n",
       "    <tr>\n",
       "      <th>25</th>\n",
       "      <td>2004</td>\n",
       "      <td>5</td>\n",
       "      <td>14</td>\n",
       "      <td>2</td>\n",
       "      <td>1</td>\n",
       "      <td>1</td>\n",
       "      <td>Tronco</td>\n",
       "    </tr>\n",
       "    <tr>\n",
       "      <th>26</th>\n",
       "      <td>2003</td>\n",
       "      <td>745</td>\n",
       "      <td>83</td>\n",
       "      <td>3</td>\n",
       "      <td>3</td>\n",
       "      <td>0</td>\n",
       "      <td>Raiz</td>\n",
       "    </tr>\n",
       "    <tr>\n",
       "      <th>27</th>\n",
       "      <td>2002</td>\n",
       "      <td>82</td>\n",
       "      <td>46</td>\n",
       "      <td>3</td>\n",
       "      <td>3</td>\n",
       "      <td>0</td>\n",
       "      <td>Raiz</td>\n",
       "    </tr>\n",
       "    <tr>\n",
       "      <th>28</th>\n",
       "      <td>2001</td>\n",
       "      <td>55</td>\n",
       "      <td>37</td>\n",
       "      <td>3</td>\n",
       "      <td>3</td>\n",
       "      <td>0</td>\n",
       "      <td>Raiz</td>\n",
       "    </tr>\n",
       "    <tr>\n",
       "      <th>29</th>\n",
       "      <td>2000</td>\n",
       "      <td>62</td>\n",
       "      <td>14</td>\n",
       "      <td>3</td>\n",
       "      <td>3</td>\n",
       "      <td>0</td>\n",
       "      <td>Raiz</td>\n",
       "    </tr>\n",
       "    <tr>\n",
       "      <th>30</th>\n",
       "      <td>1999</td>\n",
       "      <td>11</td>\n",
       "      <td>29</td>\n",
       "      <td>3</td>\n",
       "      <td>3</td>\n",
       "      <td>0</td>\n",
       "      <td>Raiz</td>\n",
       "    </tr>\n",
       "    <tr>\n",
       "      <th>31</th>\n",
       "      <td>1998</td>\n",
       "      <td>25</td>\n",
       "      <td>37</td>\n",
       "      <td>2</td>\n",
       "      <td>3</td>\n",
       "      <td>1</td>\n",
       "      <td>Tronco</td>\n",
       "    </tr>\n",
       "    <tr>\n",
       "      <th>32</th>\n",
       "      <td>1997</td>\n",
       "      <td>82</td>\n",
       "      <td>35</td>\n",
       "      <td>3</td>\n",
       "      <td>2</td>\n",
       "      <td>1</td>\n",
       "      <td>Tronco</td>\n",
       "    </tr>\n",
       "    <tr>\n",
       "      <th>33</th>\n",
       "      <td>1996</td>\n",
       "      <td>41</td>\n",
       "      <td>12</td>\n",
       "      <td>3</td>\n",
       "      <td>3</td>\n",
       "      <td>0</td>\n",
       "      <td>Raiz</td>\n",
       "    </tr>\n",
       "    <tr>\n",
       "      <th>34</th>\n",
       "      <td>1998</td>\n",
       "      <td>1</td>\n",
       "      <td>1</td>\n",
       "      <td>2</td>\n",
       "      <td>3</td>\n",
       "      <td>1</td>\n",
       "      <td>Tronco</td>\n",
       "    </tr>\n",
       "    <tr>\n",
       "      <th>35</th>\n",
       "      <td>1997</td>\n",
       "      <td>217</td>\n",
       "      <td>8</td>\n",
       "      <td>1</td>\n",
       "      <td>3</td>\n",
       "      <td>1</td>\n",
       "      <td>Tronco</td>\n",
       "    </tr>\n",
       "    <tr>\n",
       "      <th>36</th>\n",
       "      <td>1996</td>\n",
       "      <td>0</td>\n",
       "      <td>4</td>\n",
       "      <td>3</td>\n",
       "      <td>3</td>\n",
       "      <td>0</td>\n",
       "      <td>Raiz</td>\n",
       "    </tr>\n",
       "    <tr>\n",
       "      <th>37</th>\n",
       "      <td>1983</td>\n",
       "      <td>163</td>\n",
       "      <td>2</td>\n",
       "      <td>3</td>\n",
       "      <td>3</td>\n",
       "      <td>1</td>\n",
       "      <td>Tronco</td>\n",
       "    </tr>\n",
       "    <tr>\n",
       "      <th>38</th>\n",
       "      <td>1982</td>\n",
       "      <td>51</td>\n",
       "      <td>7</td>\n",
       "      <td>2</td>\n",
       "      <td>3</td>\n",
       "      <td>1</td>\n",
       "      <td>Tronco</td>\n",
       "    </tr>\n",
       "    <tr>\n",
       "      <th>39</th>\n",
       "      <td>1982</td>\n",
       "      <td>52</td>\n",
       "      <td>1</td>\n",
       "      <td>2</td>\n",
       "      <td>3</td>\n",
       "      <td>1</td>\n",
       "      <td>Tronco</td>\n",
       "    </tr>\n",
       "    <tr>\n",
       "      <th>40</th>\n",
       "      <td>1982</td>\n",
       "      <td>4</td>\n",
       "      <td>26</td>\n",
       "      <td>2</td>\n",
       "      <td>3</td>\n",
       "      <td>1</td>\n",
       "      <td>Tronco</td>\n",
       "    </tr>\n",
       "    <tr>\n",
       "      <th>41</th>\n",
       "      <td>1982</td>\n",
       "      <td>251</td>\n",
       "      <td>1</td>\n",
       "      <td>3</td>\n",
       "      <td>3</td>\n",
       "      <td>1</td>\n",
       "      <td>Tronco</td>\n",
       "    </tr>\n",
       "  </tbody>\n",
       "</table>\n",
       "</div>"
      ],
      "text/plain": [
       "      PY   CR   TC  SO  DT  cluster   label\n",
       "0   2022   21   12   3   3        0    Raiz\n",
       "1   2022  114    1   3   3        0    Raiz\n",
       "2   2022   19    1   3   3        0    Raiz\n",
       "3   2022   39    2   2   3        0    Raiz\n",
       "4   2022   11    1   3   2        0    Raiz\n",
       "5   2022   39    1   3   2        0    Raiz\n",
       "6   2022  135   39   2   3        0    Raiz\n",
       "7   2020   94   20   3   3        0    Raiz\n",
       "8   2020    8    2   2   3        0    Raiz\n",
       "9   2020  102    2   3   2        0    Raiz\n",
       "10  2019   69   36   2   3        0    Raiz\n",
       "11  2018   36   26   3   3        0    Raiz\n",
       "12  2017    7   86   3   3        0    Raiz\n",
       "13  2016   31    5   2   3        0    Raiz\n",
       "14  2015   25   26   2   3        0    Raiz\n",
       "15  2014   25   85   3   2        0    Raiz\n",
       "16  2013   74  533   3   2        2   Hojas\n",
       "17  2012   36   23   3   3        0    Raiz\n",
       "18  2011   62   14   3   3        0    Raiz\n",
       "19  2010   25   46   1   3        1  Tronco\n",
       "20  2009   84   75   3   3        0    Raiz\n",
       "21  2008   45   63   3   3        0    Raiz\n",
       "22  2007    1   83   2   1        1  Tronco\n",
       "23  2006    4   18   1   2        1  Tronco\n",
       "24  2005   58   97   3   2        0    Raiz\n",
       "25  2004    5   14   2   1        1  Tronco\n",
       "26  2003  745   83   3   3        0    Raiz\n",
       "27  2002   82   46   3   3        0    Raiz\n",
       "28  2001   55   37   3   3        0    Raiz\n",
       "29  2000   62   14   3   3        0    Raiz\n",
       "30  1999   11   29   3   3        0    Raiz\n",
       "31  1998   25   37   2   3        1  Tronco\n",
       "32  1997   82   35   3   2        1  Tronco\n",
       "33  1996   41   12   3   3        0    Raiz\n",
       "34  1998    1    1   2   3        1  Tronco\n",
       "35  1997  217    8   1   3        1  Tronco\n",
       "36  1996    0    4   3   3        0    Raiz\n",
       "37  1983  163    2   3   3        1  Tronco\n",
       "38  1982   51    7   2   3        1  Tronco\n",
       "39  1982   52    1   2   3        1  Tronco\n",
       "40  1982    4   26   2   3        1  Tronco\n",
       "41  1982  251    1   3   3        1  Tronco"
      ]
     },
     "execution_count": 315,
     "metadata": {},
     "output_type": "execute_result"
    }
   ],
   "source": [
    "data"
   ]
  },
  {
   "cell_type": "code",
   "execution_count": 323,
   "metadata": {},
   "outputs": [
    {
     "data": {
      "image/png": "[encoded data removed]",
      "text/plain": [
       "<Figure size 640x480 with 1 Axes>"
      ]
     },
     "metadata": {},
     "output_type": "display_data"
    }
   ],
   "source": [
    "import matplotlib.pyplot as plt\n",
    "from sklearn.datasets import load_iris\n",
    "from sklearn.cluster import KMeans\n",
    "\n",
    "# Load iris dataset\n",
    "# iris = load_iris()\n",
    "\n",
    "# Perform KMeans clustering with 3 clusters (since there are 3 species in the iris dataset)\n",
    "kmeans = KMeans(n_clusters=3, n_init=10)\n",
    "kmeans.fit(data1)\n",
    "\n",
    "# Get the cluster labels and centroids\n",
    "labels = kmeans.labels_\n",
    "centroids = kmeans.cluster_centers_\n",
    "\n",
    "# Create scatter plot of the data points, color-coded by their cluster label\n",
    "plt.scatter(data1['PY'], data1['TC'], c=labels, cmap='viridis')\n",
    "\n",
    "# Plot the centroids as markers on the plot\n",
    "plt.scatter(centroids[:, 0], centroids[:, 1], marker='x', s=200, linewidths=3, color='r')\n",
    "\n",
    "# Add labels and title\n",
    "plt.xlabel('PY')\n",
    "plt.ylabel('TC')\n",
    "plt.title('Iris Cluster Plot')\n",
    "\n",
    "# Show the plot\n",
    "plt.show()\n"
   ]
  },
  {
   "cell_type": "code",
   "execution_count": null,
   "metadata": {},
   "outputs": [],
   "source": [
    "#merged_data = pd.merge(df,data1, on='DI')"
   ]
  },
  {
   "cell_type": "code",
   "execution_count": 312,
   "metadata": {},
   "outputs": [
    {
     "data": {
      "text/plain": [
       "<seaborn.axisgrid.PairGrid at 0x297d9d1e0>"
      ]
     },
     "execution_count": 312,
     "metadata": {},
     "output_type": "execute_result"
    },
    {
     "data": {
      "image/png": "[encoded data removed]",
      "text/plain": [
       "<Figure size 1308.88x1250 with 30 Axes>"
      ]
     },
     "metadata": {},
     "output_type": "display_data"
    }
   ],
   "source": [
    "import seaborn as sns\n",
    "\n",
    "# Convert iris dataset to dataframe\n",
    "#iris_df = sns.load_dataset(data)\n",
    "\n",
    "# Add cluster labels to the dataframe\n",
    "#iris_df['cluster'] = labels\n",
    "\n",
    "# Create scatterplot matrix with color-coded points based on cluster label\n",
    "sns.pairplot(data, hue='cluster')\n"
   ]
  },
  {
   "cell_type": "code",
   "execution_count": 297,
   "metadata": {},
   "outputs": [
    {
     "data": {
      "application/vnd.plotly.v1+json": {
       "config": {
        "plotlyServerURL": "https://plot.ly"
       },
       "data": [
        {
         "alignmentgroup": "True",
         "hovertemplate": "PY=%{y}<extra></extra>",
         "legendgroup": "",
         "marker": {
          "color": "#636efa"
         },
         "name": "",
         "notched": false,
         "offsetgroup": "",
         "orientation": "v",
         "showlegend": false,
         "type": "box",
         "x0": " ",
         "xaxis": "x",
         "y": [
          2022,
          2022,
          2022,
          2022,
          2022,
          2022,
          2022,
          2020,
          2020,
          2020,
          2019,
          2018,
          2017,
          2016,
          2015,
          2014,
          2013,
          2012,
          2011,
          2010,
          2009,
          2008,
          2007,
          2006,
          2005,
          2004,
          2003,
          2002,
          2001,
          2000,
          1999,
          1998,
          1997,
          1996,
          1998,
          1997,
          1996,
          1983,
          1982,
          1982,
          1982,
          1982
         ],
         "y0": " ",
         "yaxis": "y"
        }
       ],
       "layout": {
        "boxmode": "group",
        "legend": {
         "tracegroupgap": 0
        },
        "margin": {
         "t": 60
        },
        "template": {
         "data": {
          "bar": [
           {
            "error_x": {
             "color": "#2a3f5f"
            },
            "error_y": {
             "color": "#2a3f5f"
            },
            "marker": {
             "line": {
              "color": "#E5ECF6",
              "width": 0.5
             },
             "pattern": {
              "fillmode": "overlay",
              "size": 10,
              "solidity": 0.2
             }
            },
            "type": "bar"
           }
          ],
          "barpolar": [
           {
            "marker": {
             "line": {
              "color": "#E5ECF6",
              "width": 0.5
             },
             "pattern": {
              "fillmode": "overlay",
              "size": 10,
              "solidity": 0.2
             }
            },
            "type": "barpolar"
           }
          ],
          "carpet": [
           {
            "aaxis": {
             "endlinecolor": "#2a3f5f",
             "gridcolor": "white",
             "linecolor": "white",
             "minorgridcolor": "white",
             "startlinecolor": "#2a3f5f"
            },
            "baxis": {
             "endlinecolor": "#2a3f5f",
             "gridcolor": "white",
             "linecolor": "white",
             "minorgridcolor": "white",
             "startlinecolor": "#2a3f5f"
            },
            "type": "carpet"
           }
          ],
          "choropleth": [
           {
            "colorbar": {
             "outlinewidth": 0,
             "ticks": ""
            },
            "type": "choropleth"
           }
          ],
          "contour": [
           {
            "colorbar": {
             "outlinewidth": 0,
             "ticks": ""
            },
            "colorscale": [
             [
              0,
              "#0d0887"
             ],
             [
              0.1111111111111111,
              "#46039f"
             ],
             [
              0.2222222222222222,
              "#7201a8"
             ],
             [
              0.3333333333333333,
              "#9c179e"
             ],
             [
              0.4444444444444444,
              "#bd3786"
             ],
             [
              0.5555555555555556,
              "#d8576b"
             ],
             [
              0.6666666666666666,
              "#ed7953"
             ],
             [
              0.7777777777777778,
              "#fb9f3a"
             ],
             [
              0.8888888888888888,
              "#fdca26"
             ],
             [
              1,
              "#f0f921"
             ]
            ],
            "type": "contour"
           }
          ],
          "contourcarpet": [
           {
            "colorbar": {
             "outlinewidth": 0,
             "ticks": ""
            },
            "type": "contourcarpet"
           }
          ],
          "heatmap": [
           {
            "colorbar": {
             "outlinewidth": 0,
             "ticks": ""
            },
            "colorscale": [
             [
              0,
              "#0d0887"
             ],
             [
              0.1111111111111111,
              "#46039f"
             ],
             [
              0.2222222222222222,
              "#7201a8"
             ],
             [
              0.3333333333333333,
              "#9c179e"
             ],
             [
              0.4444444444444444,
              "#bd3786"
             ],
             [
              0.5555555555555556,
              "#d8576b"
             ],
             [
              0.6666666666666666,
              "#ed7953"
             ],
             [
              0.7777777777777778,
              "#fb9f3a"
             ],
             [
              0.8888888888888888,
              "#fdca26"
             ],
             [
              1,
              "#f0f921"
             ]
            ],
            "type": "heatmap"
           }
          ],
          "heatmapgl": [
           {
            "colorbar": {
             "outlinewidth": 0,
             "ticks": ""
            },
            "colorscale": [
             [
              0,
              "#0d0887"
             ],
             [
              0.1111111111111111,
              "#46039f"
             ],
             [
              0.2222222222222222,
              "#7201a8"
             ],
             [
              0.3333333333333333,
              "#9c179e"
             ],
             [
              0.4444444444444444,
              "#bd3786"
             ],
             [
              0.5555555555555556,
              "#d8576b"
             ],
             [
              0.6666666666666666,
              "#ed7953"
             ],
             [
              0.7777777777777778,
              "#fb9f3a"
             ],
             [
              0.8888888888888888,
              "#fdca26"
             ],
             [
              1,
              "#f0f921"
             ]
            ],
            "type": "heatmapgl"
           }
          ],
          "histogram": [
           {
            "marker": {
             "pattern": {
              "fillmode": "overlay",
              "size": 10,
              "solidity": 0.2
             }
            },
            "type": "histogram"
           }
          ],
          "histogram2d": [
           {
            "colorbar": {
             "outlinewidth": 0,
             "ticks": ""
            },
            "colorscale": [
             [
              0,
              "#0d0887"
             ],
             [
              0.1111111111111111,
              "#46039f"
             ],
             [
              0.2222222222222222,
              "#7201a8"
             ],
             [
              0.3333333333333333,
              "#9c179e"
             ],
             [
              0.4444444444444444,
              "#bd3786"
             ],
             [
              0.5555555555555556,
              "#d8576b"
             ],
             [
              0.6666666666666666,
              "#ed7953"
             ],
             [
              0.7777777777777778,
              "#fb9f3a"
             ],
             [
              0.8888888888888888,
              "#fdca26"
             ],
             [
              1,
              "#f0f921"
             ]
            ],
            "type": "histogram2d"
           }
          ],
          "histogram2dcontour": [
           {
            "colorbar": {
             "outlinewidth": 0,
             "ticks": ""
            },
            "colorscale": [
             [
              0,
              "#0d0887"
             ],
             [
              0.1111111111111111,
              "#46039f"
             ],
             [
              0.2222222222222222,
              "#7201a8"
             ],
             [
              0.3333333333333333,
              "#9c179e"
             ],
             [
              0.4444444444444444,
              "#bd3786"
             ],
             [
              0.5555555555555556,
              "#d8576b"
             ],
             [
              0.6666666666666666,
              "#ed7953"
             ],
             [
              0.7777777777777778,
              "#fb9f3a"
             ],
             [
              0.8888888888888888,
              "#fdca26"
             ],
             [
              1,
              "#f0f921"
             ]
            ],
            "type": "histogram2dcontour"
           }
          ],
          "mesh3d": [
           {
            "colorbar": {
             "outlinewidth": 0,
             "ticks": ""
            },
            "type": "mesh3d"
           }
          ],
          "parcoords": [
           {
            "line": {
             "colorbar": {
              "outlinewidth": 0,
              "ticks": ""
             }
            },
            "type": "parcoords"
           }
          ],
          "pie": [
           {
            "automargin": true,
            "type": "pie"
           }
          ],
          "scatter": [
           {
            "fillpattern": {
             "fillmode": "overlay",
             "size": 10,
             "solidity": 0.2
            },
            "type": "scatter"
           }
          ],
          "scatter3d": [
           {
            "line": {
             "colorbar": {
              "outlinewidth": 0,
              "ticks": ""
             }
            },
            "marker": {
             "colorbar": {
              "outlinewidth": 0,
              "ticks": ""
             }
            },
            "type": "scatter3d"
           }
          ],
          "scattercarpet": [
           {
            "marker": {
             "colorbar": {
              "outlinewidth": 0,
              "ticks": ""
             }
            },
            "type": "scattercarpet"
           }
          ],
          "scattergeo": [
           {
            "marker": {
             "colorbar": {
              "outlinewidth": 0,
              "ticks": ""
             }
            },
            "type": "scattergeo"
           }
          ],
          "scattergl": [
           {
            "marker": {
             "colorbar": {
              "outlinewidth": 0,
              "ticks": ""
             }
            },
            "type": "scattergl"
           }
          ],
          "scattermapbox": [
           {
            "marker": {
             "colorbar": {
              "outlinewidth": 0,
              "ticks": ""
             }
            },
            "type": "scattermapbox"
           }
          ],
          "scatterpolar": [
           {
            "marker": {
             "colorbar": {
              "outlinewidth": 0,
              "ticks": ""
             }
            },
            "type": "scatterpolar"
           }
          ],
          "scatterpolargl": [
           {
            "marker": {
             "colorbar": {
              "outlinewidth": 0,
              "ticks": ""
             }
            },
            "type": "scatterpolargl"
           }
          ],
          "scatterternary": [
           {
            "marker": {
             "colorbar": {
              "outlinewidth": 0,
              "ticks": ""
             }
            },
            "type": "scatterternary"
           }
          ],
          "surface": [
           {
            "colorbar": {
             "outlinewidth": 0,
             "ticks": ""
            },
            "colorscale": [
             [
              0,
              "#0d0887"
             ],
             [
              0.1111111111111111,
              "#46039f"
             ],
             [
              0.2222222222222222,
              "#7201a8"
             ],
             [
              0.3333333333333333,
              "#9c179e"
             ],
             [
              0.4444444444444444,
              "#bd3786"
             ],
             [
              0.5555555555555556,
              "#d8576b"
             ],
             [
              0.6666666666666666,
              "#ed7953"
             ],
             [
              0.7777777777777778,
              "#fb9f3a"
             ],
             [
              0.8888888888888888,
              "#fdca26"
             ],
             [
              1,
              "#f0f921"
             ]
            ],
            "type": "surface"
           }
          ],
          "table": [
           {
            "cells": {
             "fill": {
              "color": "#EBF0F8"
             },
             "line": {
              "color": "white"
             }
            },
            "header": {
             "fill": {
              "color": "#C8D4E3"
             },
             "line": {
              "color": "white"
             }
            },
            "type": "table"
           }
          ]
         },
         "layout": {
          "annotationdefaults": {
           "arrowcolor": "#2a3f5f",
           "arrowhead": 0,
           "arrowwidth": 1
          },
          "autotypenumbers": "strict",
          "coloraxis": {
           "colorbar": {
            "outlinewidth": 0,
            "ticks": ""
           }
          },
          "colorscale": {
           "diverging": [
            [
             0,
             "#8e0152"
            ],
            [
             0.1,
             "#c51b7d"
            ],
            [
             0.2,
             "#de77ae"
            ],
            [
             0.3,
             "#f1b6da"
            ],
            [
             0.4,
             "#fde0ef"
            ],
            [
             0.5,
             "#f7f7f7"
            ],
            [
             0.6,
             "#e6f5d0"
            ],
            [
             0.7,
             "#b8e186"
            ],
            [
             0.8,
             "#7fbc41"
            ],
            [
             0.9,
             "#4d9221"
            ],
            [
             1,
             "#276419"
            ]
           ],
           "sequential": [
            [
             0,
             "#0d0887"
            ],
            [
             0.1111111111111111,
             "#46039f"
            ],
            [
             0.2222222222222222,
             "#7201a8"
            ],
            [
             0.3333333333333333,
             "#9c179e"
            ],
            [
             0.4444444444444444,
             "#bd3786"
            ],
            [
             0.5555555555555556,
             "#d8576b"
            ],
            [
             0.6666666666666666,
             "#ed7953"
            ],
            [
             0.7777777777777778,
             "#fb9f3a"
            ],
            [
             0.8888888888888888,
             "#fdca26"
            ],
            [
             1,
             "#f0f921"
            ]
           ],
           "sequentialminus": [
            [
             0,
             "#0d0887"
            ],
            [
             0.1111111111111111,
             "#46039f"
            ],
            [
             0.2222222222222222,
             "#7201a8"
            ],
            [
             0.3333333333333333,
             "#9c179e"
            ],
            [
             0.4444444444444444,
             "#bd3786"
            ],
            [
             0.5555555555555556,
             "#d8576b"
            ],
            [
             0.6666666666666666,
             "#ed7953"
            ],
            [
             0.7777777777777778,
             "#fb9f3a"
            ],
            [
             0.8888888888888888,
             "#fdca26"
            ],
            [
             1,
             "#f0f921"
            ]
           ]
          },
          "colorway": [
           "#636efa",
           "#EF553B",
           "#00cc96",
           "#ab63fa",
           "#FFA15A",
           "#19d3f3",
           "#FF6692",
           "#B6E880",
           "#FF97FF",
           "#FECB52"
          ],
          "font": {
           "color": "#2a3f5f"
          },
          "geo": {
           "bgcolor": "white",
           "lakecolor": "white",
           "landcolor": "#E5ECF6",
           "showlakes": true,
           "showland": true,
           "subunitcolor": "white"
          },
          "hoverlabel": {
           "align": "left"
          },
          "hovermode": "closest",
          "mapbox": {
           "style": "light"
          },
          "paper_bgcolor": "white",
          "plot_bgcolor": "#E5ECF6",
          "polar": {
           "angularaxis": {
            "gridcolor": "white",
            "linecolor": "white",
            "ticks": ""
           },
           "bgcolor": "#E5ECF6",
           "radialaxis": {
            "gridcolor": "white",
            "linecolor": "white",
            "ticks": ""
           }
          },
          "scene": {
           "xaxis": {
            "backgroundcolor": "#E5ECF6",
            "gridcolor": "white",
            "gridwidth": 2,
            "linecolor": "white",
            "showbackground": true,
            "ticks": "",
            "zerolinecolor": "white"
           },
           "yaxis": {
            "backgroundcolor": "#E5ECF6",
            "gridcolor": "white",
            "gridwidth": 2,
            "linecolor": "white",
            "showbackground": true,
            "ticks": "",
            "zerolinecolor": "white"
           },
           "zaxis": {
            "backgroundcolor": "#E5ECF6",
            "gridcolor": "white",
            "gridwidth": 2,
            "linecolor": "white",
            "showbackground": true,
            "ticks": "",
            "zerolinecolor": "white"
           }
          },
          "shapedefaults": {
           "line": {
            "color": "#2a3f5f"
           }
          },
          "ternary": {
           "aaxis": {
            "gridcolor": "white",
            "linecolor": "white",
            "ticks": ""
           },
           "baxis": {
            "gridcolor": "white",
            "linecolor": "white",
            "ticks": ""
           },
           "bgcolor": "#E5ECF6",
           "caxis": {
            "gridcolor": "white",
            "linecolor": "white",
            "ticks": ""
           }
          },
          "title": {
           "x": 0.05
          },
          "xaxis": {
           "automargin": true,
           "gridcolor": "white",
           "linecolor": "white",
           "ticks": "",
           "title": {
            "standoff": 15
           },
           "zerolinecolor": "white",
           "zerolinewidth": 2
          },
          "yaxis": {
           "automargin": true,
           "gridcolor": "white",
           "linecolor": "white",
           "ticks": "",
           "title": {
            "standoff": 15
           },
           "zerolinecolor": "white",
           "zerolinewidth": 2
          }
         }
        },
        "xaxis": {
         "anchor": "y",
         "domain": [
          0,
          1
         ]
        },
        "yaxis": {
         "anchor": "x",
         "domain": [
          0,
          1
         ],
         "title": {
          "text": "PY"
         }
        }
       }
      }
     },
     "metadata": {},
     "output_type": "display_data"
    }
   ],
   "source": [
    "fig = px.box(data, y='PY')\n",
    "fig"
   ]
  },
  {
   "cell_type": "markdown",
   "metadata": {},
   "source": [
    "# K means - Clasificación de Clusters "
   ]
  },
  {
   "cell_type": "code",
   "execution_count": 298,
   "metadata": {},
   "outputs": [
    {
     "data": {
      "text/html": [
       "<div>\n",
       "<style scoped>\n",
       "    .dataframe tbody tr th:only-of-type {\n",
       "        vertical-align: middle;\n",
       "    }\n",
       "\n",
       "    .dataframe tbody tr th {\n",
       "        vertical-align: top;\n",
       "    }\n",
       "\n",
       "    .dataframe thead th {\n",
       "        text-align: right;\n",
       "    }\n",
       "</style>\n",
       "<table border=\"1\" class=\"dataframe\">\n",
       "  <thead>\n",
       "    <tr style=\"text-align: right;\">\n",
       "      <th></th>\n",
       "      <th>PY</th>\n",
       "      <th>CR</th>\n",
       "      <th>TC</th>\n",
       "      <th>SO</th>\n",
       "      <th>DT</th>\n",
       "    </tr>\n",
       "  </thead>\n",
       "  <tbody>\n",
       "    <tr>\n",
       "      <th>0</th>\n",
       "      <td>2022</td>\n",
       "      <td>21</td>\n",
       "      <td>12</td>\n",
       "      <td>3</td>\n",
       "      <td>3</td>\n",
       "    </tr>\n",
       "    <tr>\n",
       "      <th>1</th>\n",
       "      <td>2022</td>\n",
       "      <td>114</td>\n",
       "      <td>1</td>\n",
       "      <td>3</td>\n",
       "      <td>3</td>\n",
       "    </tr>\n",
       "    <tr>\n",
       "      <th>2</th>\n",
       "      <td>2022</td>\n",
       "      <td>19</td>\n",
       "      <td>1</td>\n",
       "      <td>3</td>\n",
       "      <td>3</td>\n",
       "    </tr>\n",
       "    <tr>\n",
       "      <th>3</th>\n",
       "      <td>2022</td>\n",
       "      <td>39</td>\n",
       "      <td>2</td>\n",
       "      <td>2</td>\n",
       "      <td>3</td>\n",
       "    </tr>\n",
       "    <tr>\n",
       "      <th>4</th>\n",
       "      <td>2022</td>\n",
       "      <td>11</td>\n",
       "      <td>1</td>\n",
       "      <td>3</td>\n",
       "      <td>2</td>\n",
       "    </tr>\n",
       "    <tr>\n",
       "      <th>5</th>\n",
       "      <td>2022</td>\n",
       "      <td>39</td>\n",
       "      <td>1</td>\n",
       "      <td>3</td>\n",
       "      <td>2</td>\n",
       "    </tr>\n",
       "    <tr>\n",
       "      <th>6</th>\n",
       "      <td>2022</td>\n",
       "      <td>135</td>\n",
       "      <td>39</td>\n",
       "      <td>2</td>\n",
       "      <td>3</td>\n",
       "    </tr>\n",
       "    <tr>\n",
       "      <th>7</th>\n",
       "      <td>2020</td>\n",
       "      <td>94</td>\n",
       "      <td>20</td>\n",
       "      <td>3</td>\n",
       "      <td>3</td>\n",
       "    </tr>\n",
       "    <tr>\n",
       "      <th>8</th>\n",
       "      <td>2020</td>\n",
       "      <td>8</td>\n",
       "      <td>2</td>\n",
       "      <td>2</td>\n",
       "      <td>3</td>\n",
       "    </tr>\n",
       "    <tr>\n",
       "      <th>9</th>\n",
       "      <td>2020</td>\n",
       "      <td>102</td>\n",
       "      <td>2</td>\n",
       "      <td>3</td>\n",
       "      <td>2</td>\n",
       "    </tr>\n",
       "    <tr>\n",
       "      <th>10</th>\n",
       "      <td>2019</td>\n",
       "      <td>69</td>\n",
       "      <td>36</td>\n",
       "      <td>2</td>\n",
       "      <td>3</td>\n",
       "    </tr>\n",
       "    <tr>\n",
       "      <th>11</th>\n",
       "      <td>2018</td>\n",
       "      <td>36</td>\n",
       "      <td>26</td>\n",
       "      <td>3</td>\n",
       "      <td>3</td>\n",
       "    </tr>\n",
       "    <tr>\n",
       "      <th>12</th>\n",
       "      <td>2017</td>\n",
       "      <td>7</td>\n",
       "      <td>86</td>\n",
       "      <td>3</td>\n",
       "      <td>3</td>\n",
       "    </tr>\n",
       "    <tr>\n",
       "      <th>13</th>\n",
       "      <td>2016</td>\n",
       "      <td>31</td>\n",
       "      <td>5</td>\n",
       "      <td>2</td>\n",
       "      <td>3</td>\n",
       "    </tr>\n",
       "    <tr>\n",
       "      <th>14</th>\n",
       "      <td>2015</td>\n",
       "      <td>25</td>\n",
       "      <td>26</td>\n",
       "      <td>2</td>\n",
       "      <td>3</td>\n",
       "    </tr>\n",
       "    <tr>\n",
       "      <th>15</th>\n",
       "      <td>2014</td>\n",
       "      <td>25</td>\n",
       "      <td>85</td>\n",
       "      <td>3</td>\n",
       "      <td>2</td>\n",
       "    </tr>\n",
       "    <tr>\n",
       "      <th>16</th>\n",
       "      <td>2013</td>\n",
       "      <td>74</td>\n",
       "      <td>533</td>\n",
       "      <td>3</td>\n",
       "      <td>2</td>\n",
       "    </tr>\n",
       "    <tr>\n",
       "      <th>17</th>\n",
       "      <td>2012</td>\n",
       "      <td>36</td>\n",
       "      <td>23</td>\n",
       "      <td>3</td>\n",
       "      <td>3</td>\n",
       "    </tr>\n",
       "    <tr>\n",
       "      <th>18</th>\n",
       "      <td>2011</td>\n",
       "      <td>62</td>\n",
       "      <td>14</td>\n",
       "      <td>3</td>\n",
       "      <td>3</td>\n",
       "    </tr>\n",
       "    <tr>\n",
       "      <th>19</th>\n",
       "      <td>2010</td>\n",
       "      <td>25</td>\n",
       "      <td>46</td>\n",
       "      <td>1</td>\n",
       "      <td>3</td>\n",
       "    </tr>\n",
       "    <tr>\n",
       "      <th>20</th>\n",
       "      <td>2009</td>\n",
       "      <td>84</td>\n",
       "      <td>75</td>\n",
       "      <td>3</td>\n",
       "      <td>3</td>\n",
       "    </tr>\n",
       "    <tr>\n",
       "      <th>21</th>\n",
       "      <td>2008</td>\n",
       "      <td>45</td>\n",
       "      <td>63</td>\n",
       "      <td>3</td>\n",
       "      <td>3</td>\n",
       "    </tr>\n",
       "    <tr>\n",
       "      <th>22</th>\n",
       "      <td>2007</td>\n",
       "      <td>1</td>\n",
       "      <td>83</td>\n",
       "      <td>2</td>\n",
       "      <td>1</td>\n",
       "    </tr>\n",
       "    <tr>\n",
       "      <th>23</th>\n",
       "      <td>2006</td>\n",
       "      <td>4</td>\n",
       "      <td>18</td>\n",
       "      <td>1</td>\n",
       "      <td>2</td>\n",
       "    </tr>\n",
       "    <tr>\n",
       "      <th>24</th>\n",
       "      <td>2005</td>\n",
       "      <td>58</td>\n",
       "      <td>97</td>\n",
       "      <td>3</td>\n",
       "      <td>2</td>\n",
       "    </tr>\n",
       "    <tr>\n",
       "      <th>25</th>\n",
       "      <td>2004</td>\n",
       "      <td>5</td>\n",
       "      <td>14</td>\n",
       "      <td>2</td>\n",
       "      <td>1</td>\n",
       "    </tr>\n",
       "    <tr>\n",
       "      <th>26</th>\n",
       "      <td>2003</td>\n",
       "      <td>745</td>\n",
       "      <td>83</td>\n",
       "      <td>3</td>\n",
       "      <td>3</td>\n",
       "    </tr>\n",
       "    <tr>\n",
       "      <th>27</th>\n",
       "      <td>2002</td>\n",
       "      <td>82</td>\n",
       "      <td>46</td>\n",
       "      <td>3</td>\n",
       "      <td>3</td>\n",
       "    </tr>\n",
       "    <tr>\n",
       "      <th>28</th>\n",
       "      <td>2001</td>\n",
       "      <td>55</td>\n",
       "      <td>37</td>\n",
       "      <td>3</td>\n",
       "      <td>3</td>\n",
       "    </tr>\n",
       "    <tr>\n",
       "      <th>29</th>\n",
       "      <td>2000</td>\n",
       "      <td>62</td>\n",
       "      <td>14</td>\n",
       "      <td>3</td>\n",
       "      <td>3</td>\n",
       "    </tr>\n",
       "    <tr>\n",
       "      <th>30</th>\n",
       "      <td>1999</td>\n",
       "      <td>11</td>\n",
       "      <td>29</td>\n",
       "      <td>3</td>\n",
       "      <td>3</td>\n",
       "    </tr>\n",
       "    <tr>\n",
       "      <th>31</th>\n",
       "      <td>1998</td>\n",
       "      <td>25</td>\n",
       "      <td>37</td>\n",
       "      <td>2</td>\n",
       "      <td>3</td>\n",
       "    </tr>\n",
       "    <tr>\n",
       "      <th>32</th>\n",
       "      <td>1997</td>\n",
       "      <td>82</td>\n",
       "      <td>35</td>\n",
       "      <td>3</td>\n",
       "      <td>2</td>\n",
       "    </tr>\n",
       "    <tr>\n",
       "      <th>33</th>\n",
       "      <td>1996</td>\n",
       "      <td>41</td>\n",
       "      <td>12</td>\n",
       "      <td>3</td>\n",
       "      <td>3</td>\n",
       "    </tr>\n",
       "    <tr>\n",
       "      <th>34</th>\n",
       "      <td>1998</td>\n",
       "      <td>1</td>\n",
       "      <td>1</td>\n",
       "      <td>2</td>\n",
       "      <td>3</td>\n",
       "    </tr>\n",
       "    <tr>\n",
       "      <th>35</th>\n",
       "      <td>1997</td>\n",
       "      <td>217</td>\n",
       "      <td>8</td>\n",
       "      <td>1</td>\n",
       "      <td>3</td>\n",
       "    </tr>\n",
       "    <tr>\n",
       "      <th>36</th>\n",
       "      <td>1996</td>\n",
       "      <td>0</td>\n",
       "      <td>4</td>\n",
       "      <td>3</td>\n",
       "      <td>3</td>\n",
       "    </tr>\n",
       "    <tr>\n",
       "      <th>37</th>\n",
       "      <td>1983</td>\n",
       "      <td>163</td>\n",
       "      <td>2</td>\n",
       "      <td>3</td>\n",
       "      <td>3</td>\n",
       "    </tr>\n",
       "    <tr>\n",
       "      <th>38</th>\n",
       "      <td>1982</td>\n",
       "      <td>51</td>\n",
       "      <td>7</td>\n",
       "      <td>2</td>\n",
       "      <td>3</td>\n",
       "    </tr>\n",
       "    <tr>\n",
       "      <th>39</th>\n",
       "      <td>1982</td>\n",
       "      <td>52</td>\n",
       "      <td>1</td>\n",
       "      <td>2</td>\n",
       "      <td>3</td>\n",
       "    </tr>\n",
       "    <tr>\n",
       "      <th>40</th>\n",
       "      <td>1982</td>\n",
       "      <td>4</td>\n",
       "      <td>26</td>\n",
       "      <td>2</td>\n",
       "      <td>3</td>\n",
       "    </tr>\n",
       "    <tr>\n",
       "      <th>41</th>\n",
       "      <td>1982</td>\n",
       "      <td>251</td>\n",
       "      <td>1</td>\n",
       "      <td>3</td>\n",
       "      <td>3</td>\n",
       "    </tr>\n",
       "  </tbody>\n",
       "</table>\n",
       "</div>"
      ],
      "text/plain": [
       "      PY   CR   TC  SO  DT\n",
       "0   2022   21   12   3   3\n",
       "1   2022  114    1   3   3\n",
       "2   2022   19    1   3   3\n",
       "3   2022   39    2   2   3\n",
       "4   2022   11    1   3   2\n",
       "5   2022   39    1   3   2\n",
       "6   2022  135   39   2   3\n",
       "7   2020   94   20   3   3\n",
       "8   2020    8    2   2   3\n",
       "9   2020  102    2   3   2\n",
       "10  2019   69   36   2   3\n",
       "11  2018   36   26   3   3\n",
       "12  2017    7   86   3   3\n",
       "13  2016   31    5   2   3\n",
       "14  2015   25   26   2   3\n",
       "15  2014   25   85   3   2\n",
       "16  2013   74  533   3   2\n",
       "17  2012   36   23   3   3\n",
       "18  2011   62   14   3   3\n",
       "19  2010   25   46   1   3\n",
       "20  2009   84   75   3   3\n",
       "21  2008   45   63   3   3\n",
       "22  2007    1   83   2   1\n",
       "23  2006    4   18   1   2\n",
       "24  2005   58   97   3   2\n",
       "25  2004    5   14   2   1\n",
       "26  2003  745   83   3   3\n",
       "27  2002   82   46   3   3\n",
       "28  2001   55   37   3   3\n",
       "29  2000   62   14   3   3\n",
       "30  1999   11   29   3   3\n",
       "31  1998   25   37   2   3\n",
       "32  1997   82   35   3   2\n",
       "33  1996   41   12   3   3\n",
       "34  1998    1    1   2   3\n",
       "35  1997  217    8   1   3\n",
       "36  1996    0    4   3   3\n",
       "37  1983  163    2   3   3\n",
       "38  1982   51    7   2   3\n",
       "39  1982   52    1   2   3\n",
       "40  1982    4   26   2   3\n",
       "41  1982  251    1   3   3"
      ]
     },
     "execution_count": 298,
     "metadata": {},
     "output_type": "execute_result"
    }
   ],
   "source": [
    "data.drop('Articulo', axis=1, inplace=True)\n",
    "data.drop('DI', axis=1, inplace=True)\n",
    "data\n",
    "\n",
    "data1.drop('Articulo', axis=1, inplace=True)\n",
    "data1.drop('DI', axis=1, inplace=True)\n",
    "data1"
   ]
  },
  {
   "cell_type": "code",
   "execution_count": 299,
   "metadata": {},
   "outputs": [
    {
     "name": "stdout",
     "output_type": "stream",
     "text": [
      "      PY   CR   TC  SO  DT  cluster\n",
      "0   2022   21   12   3   3        0\n",
      "1   2022  114    1   3   3        0\n",
      "2   2022   19    1   3   3        0\n",
      "3   2022   39    2   2   3        0\n",
      "4   2022   11    1   3   2        0\n",
      "5   2022   39    1   3   2        0\n",
      "6   2022  135   39   2   3        0\n",
      "7   2020   94   20   3   3        0\n",
      "8   2020    8    2   2   3        0\n",
      "9   2020  102    2   3   2        0\n",
      "10  2019   69   36   2   3        0\n",
      "11  2018   36   26   3   3        0\n",
      "12  2017    7   86   3   3        0\n",
      "13  2016   31    5   2   3        0\n",
      "14  2015   25   26   2   3        0\n",
      "15  2014   25   85   3   2        0\n",
      "16  2013   74  533   3   2        2\n",
      "17  2012   36   23   3   3        0\n",
      "18  2011   62   14   3   3        0\n",
      "19  2010   25   46   1   3        1\n",
      "20  2009   84   75   3   3        0\n",
      "21  2008   45   63   3   3        0\n",
      "22  2007    1   83   2   1        1\n",
      "23  2006    4   18   1   2        1\n",
      "24  2005   58   97   3   2        0\n",
      "25  2004    5   14   2   1        1\n",
      "26  2003  745   83   3   3        0\n",
      "27  2002   82   46   3   3        0\n",
      "28  2001   55   37   3   3        0\n",
      "29  2000   62   14   3   3        0\n",
      "30  1999   11   29   3   3        0\n",
      "31  1998   25   37   2   3        1\n",
      "32  1997   82   35   3   2        1\n",
      "33  1996   41   12   3   3        0\n",
      "34  1998    1    1   2   3        1\n",
      "35  1997  217    8   1   3        1\n",
      "36  1996    0    4   3   3        0\n",
      "37  1983  163    2   3   3        1\n",
      "38  1982   51    7   2   3        1\n",
      "39  1982   52    1   2   3        1\n",
      "40  1982    4   26   2   3        1\n",
      "41  1982  251    1   3   3        1\n"
     ]
    },
    {
     "name": "stderr",
     "output_type": "stream",
     "text": [
      "/opt/homebrew/lib/python3.10/site-packages/sklearn/cluster/_kmeans.py:870: FutureWarning:\n",
      "\n",
      "The default value of `n_init` will change from 10 to 'auto' in 1.4. Set the value of `n_init` explicitly to suppress the warning\n",
      "\n"
     ]
    }
   ],
   "source": [
    "from sklearn.datasets import load_iris\n",
    "from sklearn.cluster import KMeans\n",
    "from sklearn.preprocessing import StandardScaler\n",
    "import pandas as pd\n",
    "\n",
    "# Load iris dataset\n",
    "#iris = load_iris()\n",
    "#df = pd.DataFrame(data=iris.data, columns=iris.feature_names)\n",
    "\n",
    "# Standardizing the features\n",
    "scaler = StandardScaler()\n",
    "data_std = scaler.fit_transform(data)\n",
    "\n",
    "# Create a KMeans instance with 3 clusters: model\n",
    "model = KMeans(n_clusters=3)\n",
    "\n",
    "# Fit model to points\n",
    "model.fit(data_std)\n",
    "\n",
    "# Determine the cluster labels of new_points: labels\n",
    "labels = model.predict(data_std)\n",
    "\n",
    "# Print cluster labels of data\n",
    "data['cluster'] = labels\n",
    "print(data)"
   ]
  },
  {
   "cell_type": "code",
   "execution_count": 300,
   "metadata": {},
   "outputs": [
    {
     "name": "stdout",
     "output_type": "stream",
     "text": [
      "      PY   CR   TC  SO  DT  cluster   label\n",
      "0   2022   21   12   3   3        0    Raiz\n",
      "1   2022  114    1   3   3        0    Raiz\n",
      "2   2022   19    1   3   3        0    Raiz\n",
      "3   2022   39    2   2   3        0    Raiz\n",
      "4   2022   11    1   3   2        0    Raiz\n",
      "5   2022   39    1   3   2        0    Raiz\n",
      "6   2022  135   39   2   3        0    Raiz\n",
      "7   2020   94   20   3   3        0    Raiz\n",
      "8   2020    8    2   2   3        0    Raiz\n",
      "9   2020  102    2   3   2        0    Raiz\n",
      "10  2019   69   36   2   3        0    Raiz\n",
      "11  2018   36   26   3   3        0    Raiz\n",
      "12  2017    7   86   3   3        0    Raiz\n",
      "13  2016   31    5   2   3        0    Raiz\n",
      "14  2015   25   26   2   3        0    Raiz\n",
      "15  2014   25   85   3   2        0    Raiz\n",
      "16  2013   74  533   3   2        2   Hojas\n",
      "17  2012   36   23   3   3        0    Raiz\n",
      "18  2011   62   14   3   3        0    Raiz\n",
      "19  2010   25   46   1   3        1  Tronco\n",
      "20  2009   84   75   3   3        0    Raiz\n",
      "21  2008   45   63   3   3        0    Raiz\n",
      "22  2007    1   83   2   1        1  Tronco\n",
      "23  2006    4   18   1   2        1  Tronco\n",
      "24  2005   58   97   3   2        0    Raiz\n",
      "25  2004    5   14   2   1        1  Tronco\n",
      "26  2003  745   83   3   3        0    Raiz\n",
      "27  2002   82   46   3   3        0    Raiz\n",
      "28  2001   55   37   3   3        0    Raiz\n",
      "29  2000   62   14   3   3        0    Raiz\n",
      "30  1999   11   29   3   3        0    Raiz\n",
      "31  1998   25   37   2   3        1  Tronco\n",
      "32  1997   82   35   3   2        1  Tronco\n",
      "33  1996   41   12   3   3        0    Raiz\n",
      "34  1998    1    1   2   3        1  Tronco\n",
      "35  1997  217    8   1   3        1  Tronco\n",
      "36  1996    0    4   3   3        0    Raiz\n",
      "37  1983  163    2   3   3        1  Tronco\n",
      "38  1982   51    7   2   3        1  Tronco\n",
      "39  1982   52    1   2   3        1  Tronco\n",
      "40  1982    4   26   2   3        1  Tronco\n",
      "41  1982  251    1   3   3        1  Tronco\n"
     ]
    }
   ],
   "source": [
    "data['label'] = data['cluster'].apply(lambda x: 'Raiz' if x == 0 else ('Tronco' if x == 1 else 'Hojas'))\n",
    "\n",
    "print(data)\n"
   ]
  },
  {
   "cell_type": "code",
   "execution_count": 301,
   "metadata": {},
   "outputs": [],
   "source": [
    "#merged_data = pd.merge(df,data1, on='DI')"
   ]
  },
  {
   "cell_type": "code",
   "execution_count": 313,
   "metadata": {},
   "outputs": [
    {
     "name": "stdout",
     "output_type": "stream",
     "text": [
      "Accuracy: 61.54%\n"
     ]
    },
    {
     "data": {
      "image/png": "[encoded data removed]",
      "text/plain": [
       "<Figure size 1000x1000 with 6 Axes>"
      ]
     },
     "metadata": {},
     "output_type": "display_data"
    }
   ],
   "source": [
    "from sklearn.datasets import load_iris\n",
    "from sklearn.neural_network import MLPClassifier\n",
    "from sklearn.model_selection import train_test_split\n",
    "import matplotlib.pyplot as plt\n",
    "import numpy as np\n",
    "\n",
    "# Load iris dataset\n",
    "#iris = load_iris()\n",
    "\n",
    "# Split into features and labels\n",
    "#X = iris.data\n",
    "#y = iris.target\n",
    "\n",
    "# Split into training and testing sets\n",
    "X_train, X_test, y_train, y_test = train_test_split(data1, data['label'], test_size=0.3)\n",
    "\n",
    "# Create MLP classifier\n",
    "clf = MLPClassifier(hidden_layer_sizes=(5, 2), max_iter=1000)\n",
    "\n",
    "# Train classifier on training data\n",
    "clf.fit(X_train, y_train)\n",
    "\n",
    "# Test classifier on testing data\n",
    "accuracy = clf.score(X_test, y_test)\n",
    "\n",
    "print(\"Accuracy: {:.2f}%\".format(accuracy * 100))\n",
    "\n",
    "# Get weights and biases from trained MLP\n",
    "weights = clf.coefs_\n",
    "biases = clf.intercepts_\n",
    "\n",
    "# Plot neural network\n",
    "fig, axes = plt.subplots(nrows=len(weights), ncols=1, figsize=(10, 10))\n",
    "for i in range(len(weights)):\n",
    "    ax = axes[i]\n",
    "    heatmap = ax.imshow(weights[i], cmap='cool', aspect='auto')\n",
    "    ax.set_xlabel('Layer ' + str(i+1) + ' Neuron')\n",
    "    ax.set_ylabel('Input Feature')\n",
    "    ax.set_title('Layer ' + str(i+1) + ' Weights')\n",
    "    fig.colorbar(heatmap, ax=ax)\n",
    "\n",
    "fig.tight_layout()\n",
    "plt.show()"
   ]
  },
  {
   "cell_type": "markdown",
   "metadata": {},
   "source": [
    "# Neural Network"
   ]
  },
  {
   "cell_type": "code",
   "execution_count": 314,
   "metadata": {},
   "outputs": [
    {
     "ename": "ValueError",
     "evalue": "s must be a scalar, or float array-like with the same size as x and y",
     "output_type": "error",
     "traceback": [
      "\u001b[0;31m---------------------------------------------------------------------------\u001b[0m",
      "\u001b[0;31mValueError\u001b[0m                                Traceback (most recent call last)",
      "Cell \u001b[0;32mIn [314], line 49\u001b[0m\n\u001b[1;32m     46\u001b[0m     biases_x \u001b[39m=\u001b[39m i \u001b[39m+\u001b[39m \u001b[39m2\u001b[39m\n\u001b[1;32m     47\u001b[0m     biases_y \u001b[39m=\u001b[39m np\u001b[39m.\u001b[39mlinspace(\u001b[39m-\u001b[39mlayer_spacing \u001b[39m*\u001b[39m (n_neurons_out \u001b[39m-\u001b[39m \u001b[39m1\u001b[39m) \u001b[39m/\u001b[39m \u001b[39m2\u001b[39m, layer_spacing \u001b[39m*\u001b[39m (n_neurons_out \u001b[39m-\u001b[39m \u001b[39m1\u001b[39m) \u001b[39m/\u001b[39m \u001b[39m2\u001b[39m,\n\u001b[1;32m     48\u001b[0m                            n_neurons_out)\n\u001b[0;32m---> 49\u001b[0m     plt\u001b[39m.\u001b[39;49mscatter(biases_x \u001b[39m*\u001b[39;49m np\u001b[39m.\u001b[39;49mones(n_neurons_out), biases_y, marker\u001b[39m=\u001b[39;49m\u001b[39m'\u001b[39;49m\u001b[39m_\u001b[39;49m\u001b[39m'\u001b[39;49m, linewidths\u001b[39m=\u001b[39;49m\u001b[39m3\u001b[39;49m, s\u001b[39m=\u001b[39;49m\u001b[39m500\u001b[39;49m \u001b[39m*\u001b[39;49m \u001b[39mabs\u001b[39;49m(biases),\n\u001b[1;32m     50\u001b[0m                 c\u001b[39m=\u001b[39;49mbiases, cmap\u001b[39m=\u001b[39;49m\u001b[39m'\u001b[39;49m\u001b[39mcoolwarm\u001b[39;49m\u001b[39m'\u001b[39;49m)\n\u001b[1;32m     51\u001b[0m plt\u001b[39m.\u001b[39maxis(\u001b[39m'\u001b[39m\u001b[39mequal\u001b[39m\u001b[39m'\u001b[39m)\n\u001b[1;32m     52\u001b[0m plt\u001b[39m.\u001b[39maxis(\u001b[39m'\u001b[39m\u001b[39moff\u001b[39m\u001b[39m'\u001b[39m)\n",
      "File \u001b[0;32m/opt/homebrew/lib/python3.10/site-packages/matplotlib/pyplot.py:2790\u001b[0m, in \u001b[0;36mscatter\u001b[0;34m(x, y, s, c, marker, cmap, norm, vmin, vmax, alpha, linewidths, edgecolors, plotnonfinite, data, **kwargs)\u001b[0m\n\u001b[1;32m   2785\u001b[0m \u001b[39m@_copy_docstring_and_deprecators\u001b[39m(Axes\u001b[39m.\u001b[39mscatter)\n\u001b[1;32m   2786\u001b[0m \u001b[39mdef\u001b[39;00m \u001b[39mscatter\u001b[39m(\n\u001b[1;32m   2787\u001b[0m         x, y, s\u001b[39m=\u001b[39m\u001b[39mNone\u001b[39;00m, c\u001b[39m=\u001b[39m\u001b[39mNone\u001b[39;00m, marker\u001b[39m=\u001b[39m\u001b[39mNone\u001b[39;00m, cmap\u001b[39m=\u001b[39m\u001b[39mNone\u001b[39;00m, norm\u001b[39m=\u001b[39m\u001b[39mNone\u001b[39;00m,\n\u001b[1;32m   2788\u001b[0m         vmin\u001b[39m=\u001b[39m\u001b[39mNone\u001b[39;00m, vmax\u001b[39m=\u001b[39m\u001b[39mNone\u001b[39;00m, alpha\u001b[39m=\u001b[39m\u001b[39mNone\u001b[39;00m, linewidths\u001b[39m=\u001b[39m\u001b[39mNone\u001b[39;00m, \u001b[39m*\u001b[39m,\n\u001b[1;32m   2789\u001b[0m         edgecolors\u001b[39m=\u001b[39m\u001b[39mNone\u001b[39;00m, plotnonfinite\u001b[39m=\u001b[39m\u001b[39mFalse\u001b[39;00m, data\u001b[39m=\u001b[39m\u001b[39mNone\u001b[39;00m, \u001b[39m*\u001b[39m\u001b[39m*\u001b[39mkwargs):\n\u001b[0;32m-> 2790\u001b[0m     __ret \u001b[39m=\u001b[39m gca()\u001b[39m.\u001b[39;49mscatter(\n\u001b[1;32m   2791\u001b[0m         x, y, s\u001b[39m=\u001b[39;49ms, c\u001b[39m=\u001b[39;49mc, marker\u001b[39m=\u001b[39;49mmarker, cmap\u001b[39m=\u001b[39;49mcmap, norm\u001b[39m=\u001b[39;49mnorm,\n\u001b[1;32m   2792\u001b[0m         vmin\u001b[39m=\u001b[39;49mvmin, vmax\u001b[39m=\u001b[39;49mvmax, alpha\u001b[39m=\u001b[39;49malpha, linewidths\u001b[39m=\u001b[39;49mlinewidths,\n\u001b[1;32m   2793\u001b[0m         edgecolors\u001b[39m=\u001b[39;49medgecolors, plotnonfinite\u001b[39m=\u001b[39;49mplotnonfinite,\n\u001b[1;32m   2794\u001b[0m         \u001b[39m*\u001b[39;49m\u001b[39m*\u001b[39;49m({\u001b[39m\"\u001b[39;49m\u001b[39mdata\u001b[39;49m\u001b[39m\"\u001b[39;49m: data} \u001b[39mif\u001b[39;49;00m data \u001b[39mis\u001b[39;49;00m \u001b[39mnot\u001b[39;49;00m \u001b[39mNone\u001b[39;49;00m \u001b[39melse\u001b[39;49;00m {}), \u001b[39m*\u001b[39;49m\u001b[39m*\u001b[39;49mkwargs)\n\u001b[1;32m   2795\u001b[0m     sci(__ret)\n\u001b[1;32m   2796\u001b[0m     \u001b[39mreturn\u001b[39;00m __ret\n",
      "File \u001b[0;32m/opt/homebrew/lib/python3.10/site-packages/matplotlib/__init__.py:1423\u001b[0m, in \u001b[0;36m_preprocess_data.<locals>.inner\u001b[0;34m(ax, data, *args, **kwargs)\u001b[0m\n\u001b[1;32m   1420\u001b[0m \u001b[39m@functools\u001b[39m\u001b[39m.\u001b[39mwraps(func)\n\u001b[1;32m   1421\u001b[0m \u001b[39mdef\u001b[39;00m \u001b[39minner\u001b[39m(ax, \u001b[39m*\u001b[39margs, data\u001b[39m=\u001b[39m\u001b[39mNone\u001b[39;00m, \u001b[39m*\u001b[39m\u001b[39m*\u001b[39mkwargs):\n\u001b[1;32m   1422\u001b[0m     \u001b[39mif\u001b[39;00m data \u001b[39mis\u001b[39;00m \u001b[39mNone\u001b[39;00m:\n\u001b[0;32m-> 1423\u001b[0m         \u001b[39mreturn\u001b[39;00m func(ax, \u001b[39m*\u001b[39;49m\u001b[39mmap\u001b[39;49m(sanitize_sequence, args), \u001b[39m*\u001b[39;49m\u001b[39m*\u001b[39;49mkwargs)\n\u001b[1;32m   1425\u001b[0m     bound \u001b[39m=\u001b[39m new_sig\u001b[39m.\u001b[39mbind(ax, \u001b[39m*\u001b[39margs, \u001b[39m*\u001b[39m\u001b[39m*\u001b[39mkwargs)\n\u001b[1;32m   1426\u001b[0m     auto_label \u001b[39m=\u001b[39m (bound\u001b[39m.\u001b[39marguments\u001b[39m.\u001b[39mget(label_namer)\n\u001b[1;32m   1427\u001b[0m                   \u001b[39mor\u001b[39;00m bound\u001b[39m.\u001b[39mkwargs\u001b[39m.\u001b[39mget(label_namer))\n",
      "File \u001b[0;32m/opt/homebrew/lib/python3.10/site-packages/matplotlib/axes/_axes.py:4529\u001b[0m, in \u001b[0;36mAxes.scatter\u001b[0;34m(self, x, y, s, c, marker, cmap, norm, vmin, vmax, alpha, linewidths, edgecolors, plotnonfinite, **kwargs)\u001b[0m\n\u001b[1;32m   4525\u001b[0m s \u001b[39m=\u001b[39m np\u001b[39m.\u001b[39mma\u001b[39m.\u001b[39mravel(s)\n\u001b[1;32m   4526\u001b[0m \u001b[39mif\u001b[39;00m (\u001b[39mlen\u001b[39m(s) \u001b[39mnot\u001b[39;00m \u001b[39min\u001b[39;00m (\u001b[39m1\u001b[39m, x\u001b[39m.\u001b[39msize) \u001b[39mor\u001b[39;00m\n\u001b[1;32m   4527\u001b[0m         (\u001b[39mnot\u001b[39;00m np\u001b[39m.\u001b[39missubdtype(s\u001b[39m.\u001b[39mdtype, np\u001b[39m.\u001b[39mfloating) \u001b[39mand\u001b[39;00m\n\u001b[1;32m   4528\u001b[0m          \u001b[39mnot\u001b[39;00m np\u001b[39m.\u001b[39missubdtype(s\u001b[39m.\u001b[39mdtype, np\u001b[39m.\u001b[39minteger))):\n\u001b[0;32m-> 4529\u001b[0m     \u001b[39mraise\u001b[39;00m \u001b[39mValueError\u001b[39;00m(\n\u001b[1;32m   4530\u001b[0m         \u001b[39m\"\u001b[39m\u001b[39ms must be a scalar, \u001b[39m\u001b[39m\"\u001b[39m\n\u001b[1;32m   4531\u001b[0m         \u001b[39m\"\u001b[39m\u001b[39mor float array-like with the same size as x and y\u001b[39m\u001b[39m\"\u001b[39m)\n\u001b[1;32m   4533\u001b[0m \u001b[39m# get the original edgecolor the user passed before we normalize\u001b[39;00m\n\u001b[1;32m   4534\u001b[0m orig_edgecolor \u001b[39m=\u001b[39m edgecolors\n",
      "\u001b[0;31mValueError\u001b[0m: s must be a scalar, or float array-like with the same size as x and y"
     ]
    },
    {
     "data": {
      "image/png": "[encoded data removed]",
      "text/plain": [
       "<Figure size 1000x500 with 1 Axes>"
      ]
     },
     "metadata": {},
     "output_type": "display_data"
    }
   ],
   "source": [
    "import numpy as np\n",
    "import matplotlib.pyplot as plt\n",
    "from sklearn.datasets import load_iris\n",
    "from sklearn.neural_network import MLPClassifier\n",
    "\n",
    "# Load the iris dataset\n",
    "#iris = load_iris()\n",
    "#X = iris.data\n",
    "#y = iris.target\n",
    "\n",
    "# Create a neural network with two hidden layers of 5 neurons each\n",
    "mlp = MLPClassifier(hidden_layer_sizes=(5, 5), max_iter=1000)\n",
    "\n",
    "# Fit the neural network to the data\n",
    "mlp.fit(data1, data['label'])\n",
    "\n",
    "# Extract the trained weights and biases\n",
    "coefs = mlp.coefs_\n",
    "intercepts = mlp.intercepts_\n",
    "\n",
    "# Plot the neural network graph\n",
    "plt.figure(figsize=(10, 5))\n",
    "for i in range(mlp.n_layers_ - 1):\n",
    "    layer_coefs = coefs[i]\n",
    "    layer_intercepts = intercepts[i]\n",
    "    n_neurons_in = layer_coefs.shape[0]\n",
    "    n_neurons_out = layer_coefs.shape[1]\n",
    "    layer_spacing = 2.0 / (n_neurons_in + n_neurons_out)\n",
    "    neuron_radius = 0.07 * layer_spacing\n",
    "    for j in range(n_neurons_in):\n",
    "        x = i + 1\n",
    "        y = (j - 0.5 * (n_neurons_in - 1)) * layer_spacing\n",
    "        plt.gca().add_patch(plt.Circle((x, y), radius=neuron_radius, color='k'))\n",
    "        if i == 0:\n",
    "            plt.annotate('x{}'.format(j + 1), xy=(x - 0.125, y), fontsize=12)\n",
    "        for k in range(n_neurons_out):\n",
    "            weight = layer_coefs[j][k]\n",
    "            line_color = 'r' if weight > 0 else 'b'\n",
    "            plt.plot([x, x + 1], [y, (k - 0.5 * (n_neurons_out - 1)) * layer_spacing], color=line_color)\n",
    "    for k in range(n_neurons_out):\n",
    "        x = i + 2\n",
    "        y = (k - 0.5 * (n_neurons_out - 1)) * layer_spacing\n",
    "        plt.gca().add_patch(plt.Circle((x, y), radius=neuron_radius, color='k'))\n",
    "        plt.annotate('y{}'.format(k + 1), xy=(x + 0.125, y), fontsize=12)\n",
    "    biases = layer_intercepts.reshape(-1, 1).dot(np.ones((1, n_neurons_out)))\n",
    "    biases_x = i + 2\n",
    "    biases_y = np.linspace(-layer_spacing * (n_neurons_out - 1) / 2, layer_spacing * (n_neurons_out - 1) / 2,\n",
    "                           n_neurons_out)\n",
    "    plt.scatter(biases_x * np.ones(n_neurons_out), biases_y, marker='_', linewidths=3, s=500 * abs(biases),\n",
    "                c=biases, cmap='coolwarm')\n",
    "plt.axis('equal')\n",
    "plt.axis('off')\n",
    "plt.show()"
   ]
  },
  {
   "cell_type": "markdown",
   "metadata": {},
   "source": [
    "# 3D - Visualización de datos "
   ]
  },
  {
   "cell_type": "code",
   "execution_count": 310,
   "metadata": {},
   "outputs": [
    {
     "data": {
      "image/png": "[encoded data removed]",
      "text/plain": [
       "<Figure size 640x480 with 1 Axes>"
      ]
     },
     "metadata": {},
     "output_type": "display_data"
    }
   ],
   "source": [
    "import numpy as np\n",
    "import matplotlib.pyplot as plt\n",
    "\n",
    "# Generate some sample data\n",
    "x = np.random.normal(size=500)\n",
    "y = np.random.normal(size=500)\n",
    "z = np.abs(np.random.normal(size=500))\n",
    "colors = np.random.choice(['r', 'g', 'b'], size=500)\n",
    "\n",
    "# Define the size of each point based on z\n",
    "sizes = 100 * z / np.max(z) # scale sizes to have max size of 100\n",
    "\n",
    "# Create a scatter plot with colors and sizes\n",
    "plt.scatter(x, y, c=colors, s=sizes)\n",
    "\n",
    "# Show the plot\n",
    "plt.show()"
   ]
  },
  {
   "cell_type": "code",
   "execution_count": 302,
   "metadata": {},
   "outputs": [
    {
     "data": {
      "application/vnd.plotly.v1+json": {
       "config": {
        "plotlyServerURL": "https://plot.ly"
       },
       "data": [
        {
         "hovertemplate": "label=Raiz<br>PY=%{x}<br>TC=%{y}<br>DT=%{z}<extra></extra>",
         "legendgroup": "Raiz",
         "marker": {
          "color": "#636efa",
          "symbol": "cross"
         },
         "mode": "markers",
         "name": "Raiz",
         "scene": "scene",
         "showlegend": true,
         "type": "scatter3d",
         "x": [
          2022,
          2022,
          2022,
          2022,
          2022,
          2022,
          2022,
          2020,
          2020,
          2020,
          2019,
          2018,
          2017,
          2016,
          2015,
          2014,
          2012,
          2011,
          2009,
          2008,
          2005,
          2003,
          2002,
          2001,
          2000,
          1999,
          1996,
          1996
         ],
         "y": [
          12,
          1,
          1,
          2,
          1,
          1,
          39,
          20,
          2,
          2,
          36,
          26,
          86,
          5,
          26,
          85,
          23,
          14,
          75,
          63,
          97,
          83,
          46,
          37,
          14,
          29,
          12,
          4
         ],
         "z": [
          3,
          3,
          3,
          3,
          2,
          2,
          3,
          3,
          3,
          2,
          3,
          3,
          3,
          3,
          3,
          2,
          3,
          3,
          3,
          3,
          2,
          3,
          3,
          3,
          3,
          3,
          3,
          3
         ]
        },
        {
         "hovertemplate": "label=Hojas<br>PY=%{x}<br>TC=%{y}<br>DT=%{z}<extra></extra>",
         "legendgroup": "Hojas",
         "marker": {
          "color": "#EF553B",
          "symbol": "diamond"
         },
         "mode": "markers",
         "name": "Hojas",
         "scene": "scene",
         "showlegend": true,
         "type": "scatter3d",
         "x": [
          2013
         ],
         "y": [
          533
         ],
         "z": [
          2
         ]
        },
        {
         "hovertemplate": "label=Tronco<br>PY=%{x}<br>TC=%{y}<br>DT=%{z}<extra></extra>",
         "legendgroup": "Tronco",
         "marker": {
          "color": "#00cc96",
          "symbol": "x"
         },
         "mode": "markers",
         "name": "Tronco",
         "scene": "scene",
         "showlegend": true,
         "type": "scatter3d",
         "x": [
          2010,
          2007,
          2006,
          2004,
          1998,
          1997,
          1998,
          1997,
          1983,
          1982,
          1982,
          1982,
          1982
         ],
         "y": [
          46,
          83,
          18,
          14,
          37,
          35,
          1,
          8,
          2,
          7,
          1,
          26,
          1
         ],
         "z": [
          3,
          1,
          2,
          1,
          3,
          2,
          3,
          3,
          3,
          3,
          3,
          3,
          3
         ]
        }
       ],
       "layout": {
        "legend": {
         "title": {
          "text": "label"
         },
         "tracegroupgap": 0
        },
        "margin": {
         "t": 60
        },
        "scene": {
         "domain": {
          "x": [
           0,
           1
          ],
          "y": [
           0,
           1
          ]
         },
         "xaxis": {
          "title": {
           "text": "Año"
          }
         },
         "yaxis": {
          "title": {
           "text": "Citaciones"
          }
         },
         "zaxis": {
          "title": {
           "text": "TipoDocumento"
          }
         }
        },
        "template": {
         "data": {
          "bar": [
           {
            "error_x": {
             "color": "#2a3f5f"
            },
            "error_y": {
             "color": "#2a3f5f"
            },
            "marker": {
             "line": {
              "color": "#E5ECF6",
              "width": 0.5
             },
             "pattern": {
              "fillmode": "overlay",
              "size": 10,
              "solidity": 0.2
             }
            },
            "type": "bar"
           }
          ],
          "barpolar": [
           {
            "marker": {
             "line": {
              "color": "#E5ECF6",
              "width": 0.5
             },
             "pattern": {
              "fillmode": "overlay",
              "size": 10,
              "solidity": 0.2
             }
            },
            "type": "barpolar"
           }
          ],
          "carpet": [
           {
            "aaxis": {
             "endlinecolor": "#2a3f5f",
             "gridcolor": "white",
             "linecolor": "white",
             "minorgridcolor": "white",
             "startlinecolor": "#2a3f5f"
            },
            "baxis": {
             "endlinecolor": "#2a3f5f",
             "gridcolor": "white",
             "linecolor": "white",
             "minorgridcolor": "white",
             "startlinecolor": "#2a3f5f"
            },
            "type": "carpet"
           }
          ],
          "choropleth": [
           {
            "colorbar": {
             "outlinewidth": 0,
             "ticks": ""
            },
            "type": "choropleth"
           }
          ],
          "contour": [
           {
            "colorbar": {
             "outlinewidth": 0,
             "ticks": ""
            },
            "colorscale": [
             [
              0,
              "#0d0887"
             ],
             [
              0.1111111111111111,
              "#46039f"
             ],
             [
              0.2222222222222222,
              "#7201a8"
             ],
             [
              0.3333333333333333,
              "#9c179e"
             ],
             [
              0.4444444444444444,
              "#bd3786"
             ],
             [
              0.5555555555555556,
              "#d8576b"
             ],
             [
              0.6666666666666666,
              "#ed7953"
             ],
             [
              0.7777777777777778,
              "#fb9f3a"
             ],
             [
              0.8888888888888888,
              "#fdca26"
             ],
             [
              1,
              "#f0f921"
             ]
            ],
            "type": "contour"
           }
          ],
          "contourcarpet": [
           {
            "colorbar": {
             "outlinewidth": 0,
             "ticks": ""
            },
            "type": "contourcarpet"
           }
          ],
          "heatmap": [
           {
            "colorbar": {
             "outlinewidth": 0,
             "ticks": ""
            },
            "colorscale": [
             [
              0,
              "#0d0887"
             ],
             [
              0.1111111111111111,
              "#46039f"
             ],
             [
              0.2222222222222222,
              "#7201a8"
             ],
             [
              0.3333333333333333,
              "#9c179e"
             ],
             [
              0.4444444444444444,
              "#bd3786"
             ],
             [
              0.5555555555555556,
              "#d8576b"
             ],
             [
              0.6666666666666666,
              "#ed7953"
             ],
             [
              0.7777777777777778,
              "#fb9f3a"
             ],
             [
              0.8888888888888888,
              "#fdca26"
             ],
             [
              1,
              "#f0f921"
             ]
            ],
            "type": "heatmap"
           }
          ],
          "heatmapgl": [
           {
            "colorbar": {
             "outlinewidth": 0,
             "ticks": ""
            },
            "colorscale": [
             [
              0,
              "#0d0887"
             ],
             [
              0.1111111111111111,
              "#46039f"
             ],
             [
              0.2222222222222222,
              "#7201a8"
             ],
             [
              0.3333333333333333,
              "#9c179e"
             ],
             [
              0.4444444444444444,
              "#bd3786"
             ],
             [
              0.5555555555555556,
              "#d8576b"
             ],
             [
              0.6666666666666666,
              "#ed7953"
             ],
             [
              0.7777777777777778,
              "#fb9f3a"
             ],
             [
              0.8888888888888888,
              "#fdca26"
             ],
             [
              1,
              "#f0f921"
             ]
            ],
            "type": "heatmapgl"
           }
          ],
          "histogram": [
           {
            "marker": {
             "pattern": {
              "fillmode": "overlay",
              "size": 10,
              "solidity": 0.2
             }
            },
            "type": "histogram"
           }
          ],
          "histogram2d": [
           {
            "colorbar": {
             "outlinewidth": 0,
             "ticks": ""
            },
            "colorscale": [
             [
              0,
              "#0d0887"
             ],
             [
              0.1111111111111111,
              "#46039f"
             ],
             [
              0.2222222222222222,
              "#7201a8"
             ],
             [
              0.3333333333333333,
              "#9c179e"
             ],
             [
              0.4444444444444444,
              "#bd3786"
             ],
             [
              0.5555555555555556,
              "#d8576b"
             ],
             [
              0.6666666666666666,
              "#ed7953"
             ],
             [
              0.7777777777777778,
              "#fb9f3a"
             ],
             [
              0.8888888888888888,
              "#fdca26"
             ],
             [
              1,
              "#f0f921"
             ]
            ],
            "type": "histogram2d"
           }
          ],
          "histogram2dcontour": [
           {
            "colorbar": {
             "outlinewidth": 0,
             "ticks": ""
            },
            "colorscale": [
             [
              0,
              "#0d0887"
             ],
             [
              0.1111111111111111,
              "#46039f"
             ],
             [
              0.2222222222222222,
              "#7201a8"
             ],
             [
              0.3333333333333333,
              "#9c179e"
             ],
             [
              0.4444444444444444,
              "#bd3786"
             ],
             [
              0.5555555555555556,
              "#d8576b"
             ],
             [
              0.6666666666666666,
              "#ed7953"
             ],
             [
              0.7777777777777778,
              "#fb9f3a"
             ],
             [
              0.8888888888888888,
              "#fdca26"
             ],
             [
              1,
              "#f0f921"
             ]
            ],
            "type": "histogram2dcontour"
           }
          ],
          "mesh3d": [
           {
            "colorbar": {
             "outlinewidth": 0,
             "ticks": ""
            },
            "type": "mesh3d"
           }
          ],
          "parcoords": [
           {
            "line": {
             "colorbar": {
              "outlinewidth": 0,
              "ticks": ""
             }
            },
            "type": "parcoords"
           }
          ],
          "pie": [
           {
            "automargin": true,
            "type": "pie"
           }
          ],
          "scatter": [
           {
            "fillpattern": {
             "fillmode": "overlay",
             "size": 10,
             "solidity": 0.2
            },
            "type": "scatter"
           }
          ],
          "scatter3d": [
           {
            "line": {
             "colorbar": {
              "outlinewidth": 0,
              "ticks": ""
             }
            },
            "marker": {
             "colorbar": {
              "outlinewidth": 0,
              "ticks": ""
             }
            },
            "type": "scatter3d"
           }
          ],
          "scattercarpet": [
           {
            "marker": {
             "colorbar": {
              "outlinewidth": 0,
              "ticks": ""
             }
            },
            "type": "scattercarpet"
           }
          ],
          "scattergeo": [
           {
            "marker": {
             "colorbar": {
              "outlinewidth": 0,
              "ticks": ""
             }
            },
            "type": "scattergeo"
           }
          ],
          "scattergl": [
           {
            "marker": {
             "colorbar": {
              "outlinewidth": 0,
              "ticks": ""
             }
            },
            "type": "scattergl"
           }
          ],
          "scattermapbox": [
           {
            "marker": {
             "colorbar": {
              "outlinewidth": 0,
              "ticks": ""
             }
            },
            "type": "scattermapbox"
           }
          ],
          "scatterpolar": [
           {
            "marker": {
             "colorbar": {
              "outlinewidth": 0,
              "ticks": ""
             }
            },
            "type": "scatterpolar"
           }
          ],
          "scatterpolargl": [
           {
            "marker": {
             "colorbar": {
              "outlinewidth": 0,
              "ticks": ""
             }
            },
            "type": "scatterpolargl"
           }
          ],
          "scatterternary": [
           {
            "marker": {
             "colorbar": {
              "outlinewidth": 0,
              "ticks": ""
             }
            },
            "type": "scatterternary"
           }
          ],
          "surface": [
           {
            "colorbar": {
             "outlinewidth": 0,
             "ticks": ""
            },
            "colorscale": [
             [
              0,
              "#0d0887"
             ],
             [
              0.1111111111111111,
              "#46039f"
             ],
             [
              0.2222222222222222,
              "#7201a8"
             ],
             [
              0.3333333333333333,
              "#9c179e"
             ],
             [
              0.4444444444444444,
              "#bd3786"
             ],
             [
              0.5555555555555556,
              "#d8576b"
             ],
             [
              0.6666666666666666,
              "#ed7953"
             ],
             [
              0.7777777777777778,
              "#fb9f3a"
             ],
             [
              0.8888888888888888,
              "#fdca26"
             ],
             [
              1,
              "#f0f921"
             ]
            ],
            "type": "surface"
           }
          ],
          "table": [
           {
            "cells": {
             "fill": {
              "color": "#EBF0F8"
             },
             "line": {
              "color": "white"
             }
            },
            "header": {
             "fill": {
              "color": "#C8D4E3"
             },
             "line": {
              "color": "white"
             }
            },
            "type": "table"
           }
          ]
         },
         "layout": {
          "annotationdefaults": {
           "arrowcolor": "#2a3f5f",
           "arrowhead": 0,
           "arrowwidth": 1
          },
          "autotypenumbers": "strict",
          "coloraxis": {
           "colorbar": {
            "outlinewidth": 0,
            "ticks": ""
           }
          },
          "colorscale": {
           "diverging": [
            [
             0,
             "#8e0152"
            ],
            [
             0.1,
             "#c51b7d"
            ],
            [
             0.2,
             "#de77ae"
            ],
            [
             0.3,
             "#f1b6da"
            ],
            [
             0.4,
             "#fde0ef"
            ],
            [
             0.5,
             "#f7f7f7"
            ],
            [
             0.6,
             "#e6f5d0"
            ],
            [
             0.7,
             "#b8e186"
            ],
            [
             0.8,
             "#7fbc41"
            ],
            [
             0.9,
             "#4d9221"
            ],
            [
             1,
             "#276419"
            ]
           ],
           "sequential": [
            [
             0,
             "#0d0887"
            ],
            [
             0.1111111111111111,
             "#46039f"
            ],
            [
             0.2222222222222222,
             "#7201a8"
            ],
            [
             0.3333333333333333,
             "#9c179e"
            ],
            [
             0.4444444444444444,
             "#bd3786"
            ],
            [
             0.5555555555555556,
             "#d8576b"
            ],
            [
             0.6666666666666666,
             "#ed7953"
            ],
            [
             0.7777777777777778,
             "#fb9f3a"
            ],
            [
             0.8888888888888888,
             "#fdca26"
            ],
            [
             1,
             "#f0f921"
            ]
           ],
           "sequentialminus": [
            [
             0,
             "#0d0887"
            ],
            [
             0.1111111111111111,
             "#46039f"
            ],
            [
             0.2222222222222222,
             "#7201a8"
            ],
            [
             0.3333333333333333,
             "#9c179e"
            ],
            [
             0.4444444444444444,
             "#bd3786"
            ],
            [
             0.5555555555555556,
             "#d8576b"
            ],
            [
             0.6666666666666666,
             "#ed7953"
            ],
            [
             0.7777777777777778,
             "#fb9f3a"
            ],
            [
             0.8888888888888888,
             "#fdca26"
            ],
            [
             1,
             "#f0f921"
            ]
           ]
          },
          "colorway": [
           "#636efa",
           "#EF553B",
           "#00cc96",
           "#ab63fa",
           "#FFA15A",
           "#19d3f3",
           "#FF6692",
           "#B6E880",
           "#FF97FF",
           "#FECB52"
          ],
          "font": {
           "color": "#2a3f5f"
          },
          "geo": {
           "bgcolor": "white",
           "lakecolor": "white",
           "landcolor": "#E5ECF6",
           "showlakes": true,
           "showland": true,
           "subunitcolor": "white"
          },
          "hoverlabel": {
           "align": "left"
          },
          "hovermode": "closest",
          "mapbox": {
           "style": "light"
          },
          "paper_bgcolor": "white",
          "plot_bgcolor": "#E5ECF6",
          "polar": {
           "angularaxis": {
            "gridcolor": "white",
            "linecolor": "white",
            "ticks": ""
           },
           "bgcolor": "#E5ECF6",
           "radialaxis": {
            "gridcolor": "white",
            "linecolor": "white",
            "ticks": ""
           }
          },
          "scene": {
           "xaxis": {
            "backgroundcolor": "#E5ECF6",
            "gridcolor": "white",
            "gridwidth": 2,
            "linecolor": "white",
            "showbackground": true,
            "ticks": "",
            "zerolinecolor": "white"
           },
           "yaxis": {
            "backgroundcolor": "#E5ECF6",
            "gridcolor": "white",
            "gridwidth": 2,
            "linecolor": "white",
            "showbackground": true,
            "ticks": "",
            "zerolinecolor": "white"
           },
           "zaxis": {
            "backgroundcolor": "#E5ECF6",
            "gridcolor": "white",
            "gridwidth": 2,
            "linecolor": "white",
            "showbackground": true,
            "ticks": "",
            "zerolinecolor": "white"
           }
          },
          "shapedefaults": {
           "line": {
            "color": "#2a3f5f"
           }
          },
          "ternary": {
           "aaxis": {
            "gridcolor": "white",
            "linecolor": "white",
            "ticks": ""
           },
           "baxis": {
            "gridcolor": "white",
            "linecolor": "white",
            "ticks": ""
           },
           "bgcolor": "#E5ECF6",
           "caxis": {
            "gridcolor": "white",
            "linecolor": "white",
            "ticks": ""
           }
          },
          "title": {
           "x": 0.05
          },
          "xaxis": {
           "automargin": true,
           "gridcolor": "white",
           "linecolor": "white",
           "ticks": "",
           "title": {
            "standoff": 15
           },
           "zerolinecolor": "white",
           "zerolinewidth": 2
          },
          "yaxis": {
           "automargin": true,
           "gridcolor": "white",
           "linecolor": "white",
           "ticks": "",
           "title": {
            "standoff": 15
           },
           "zerolinecolor": "white",
           "zerolinewidth": 2
          }
         }
        },
        "title": {
         "text": "Iris Dataset 3D Scatter Plot"
        }
       }
      }
     },
     "metadata": {},
     "output_type": "display_data"
    }
   ],
   "source": [
    "fig = px.scatter_3d(data, x='PY', y='TC', z='DT',\n",
    "                    color='label', symbol='label', size_max=10,\n",
    "                    symbol_map={'Raiz': 'cross', 'Tronco': 'x', 'Hojas': 'diamond'})\n",
    "fig.update_layout(title='Iris Dataset 3D Scatter Plot', scene=dict(xaxis_title='Año',\n",
    "                                                                  yaxis_title='Citaciones',\n",
    "                                                                  zaxis_title='TipoDocumento'))\n",
    "fig.show()"
   ]
  },
  {
   "cell_type": "code",
   "execution_count": 303,
   "metadata": {},
   "outputs": [
    {
     "data": {
      "text/html": [
       "<div>\n",
       "<style scoped>\n",
       "    .dataframe tbody tr th:only-of-type {\n",
       "        vertical-align: middle;\n",
       "    }\n",
       "\n",
       "    .dataframe tbody tr th {\n",
       "        vertical-align: top;\n",
       "    }\n",
       "\n",
       "    .dataframe thead th {\n",
       "        text-align: right;\n",
       "    }\n",
       "</style>\n",
       "<table border=\"1\" class=\"dataframe\">\n",
       "  <thead>\n",
       "    <tr style=\"text-align: right;\">\n",
       "      <th></th>\n",
       "      <th>PY</th>\n",
       "      <th>CR</th>\n",
       "      <th>TC</th>\n",
       "      <th>SO</th>\n",
       "      <th>DT</th>\n",
       "    </tr>\n",
       "  </thead>\n",
       "  <tbody>\n",
       "    <tr>\n",
       "      <th>0</th>\n",
       "      <td>2022</td>\n",
       "      <td>21</td>\n",
       "      <td>12</td>\n",
       "      <td>3</td>\n",
       "      <td>3</td>\n",
       "    </tr>\n",
       "    <tr>\n",
       "      <th>1</th>\n",
       "      <td>2022</td>\n",
       "      <td>114</td>\n",
       "      <td>1</td>\n",
       "      <td>3</td>\n",
       "      <td>3</td>\n",
       "    </tr>\n",
       "    <tr>\n",
       "      <th>2</th>\n",
       "      <td>2022</td>\n",
       "      <td>19</td>\n",
       "      <td>1</td>\n",
       "      <td>3</td>\n",
       "      <td>3</td>\n",
       "    </tr>\n",
       "    <tr>\n",
       "      <th>3</th>\n",
       "      <td>2022</td>\n",
       "      <td>39</td>\n",
       "      <td>2</td>\n",
       "      <td>2</td>\n",
       "      <td>3</td>\n",
       "    </tr>\n",
       "    <tr>\n",
       "      <th>4</th>\n",
       "      <td>2022</td>\n",
       "      <td>11</td>\n",
       "      <td>1</td>\n",
       "      <td>3</td>\n",
       "      <td>2</td>\n",
       "    </tr>\n",
       "    <tr>\n",
       "      <th>5</th>\n",
       "      <td>2022</td>\n",
       "      <td>39</td>\n",
       "      <td>1</td>\n",
       "      <td>3</td>\n",
       "      <td>2</td>\n",
       "    </tr>\n",
       "    <tr>\n",
       "      <th>6</th>\n",
       "      <td>2022</td>\n",
       "      <td>135</td>\n",
       "      <td>39</td>\n",
       "      <td>2</td>\n",
       "      <td>3</td>\n",
       "    </tr>\n",
       "    <tr>\n",
       "      <th>7</th>\n",
       "      <td>2020</td>\n",
       "      <td>94</td>\n",
       "      <td>20</td>\n",
       "      <td>3</td>\n",
       "      <td>3</td>\n",
       "    </tr>\n",
       "    <tr>\n",
       "      <th>8</th>\n",
       "      <td>2020</td>\n",
       "      <td>8</td>\n",
       "      <td>2</td>\n",
       "      <td>2</td>\n",
       "      <td>3</td>\n",
       "    </tr>\n",
       "    <tr>\n",
       "      <th>9</th>\n",
       "      <td>2020</td>\n",
       "      <td>102</td>\n",
       "      <td>2</td>\n",
       "      <td>3</td>\n",
       "      <td>2</td>\n",
       "    </tr>\n",
       "    <tr>\n",
       "      <th>10</th>\n",
       "      <td>2019</td>\n",
       "      <td>69</td>\n",
       "      <td>36</td>\n",
       "      <td>2</td>\n",
       "      <td>3</td>\n",
       "    </tr>\n",
       "    <tr>\n",
       "      <th>11</th>\n",
       "      <td>2018</td>\n",
       "      <td>36</td>\n",
       "      <td>26</td>\n",
       "      <td>3</td>\n",
       "      <td>3</td>\n",
       "    </tr>\n",
       "    <tr>\n",
       "      <th>12</th>\n",
       "      <td>2017</td>\n",
       "      <td>7</td>\n",
       "      <td>86</td>\n",
       "      <td>3</td>\n",
       "      <td>3</td>\n",
       "    </tr>\n",
       "    <tr>\n",
       "      <th>13</th>\n",
       "      <td>2016</td>\n",
       "      <td>31</td>\n",
       "      <td>5</td>\n",
       "      <td>2</td>\n",
       "      <td>3</td>\n",
       "    </tr>\n",
       "    <tr>\n",
       "      <th>14</th>\n",
       "      <td>2015</td>\n",
       "      <td>25</td>\n",
       "      <td>26</td>\n",
       "      <td>2</td>\n",
       "      <td>3</td>\n",
       "    </tr>\n",
       "    <tr>\n",
       "      <th>15</th>\n",
       "      <td>2014</td>\n",
       "      <td>25</td>\n",
       "      <td>85</td>\n",
       "      <td>3</td>\n",
       "      <td>2</td>\n",
       "    </tr>\n",
       "    <tr>\n",
       "      <th>16</th>\n",
       "      <td>2013</td>\n",
       "      <td>74</td>\n",
       "      <td>533</td>\n",
       "      <td>3</td>\n",
       "      <td>2</td>\n",
       "    </tr>\n",
       "    <tr>\n",
       "      <th>17</th>\n",
       "      <td>2012</td>\n",
       "      <td>36</td>\n",
       "      <td>23</td>\n",
       "      <td>3</td>\n",
       "      <td>3</td>\n",
       "    </tr>\n",
       "    <tr>\n",
       "      <th>18</th>\n",
       "      <td>2011</td>\n",
       "      <td>62</td>\n",
       "      <td>14</td>\n",
       "      <td>3</td>\n",
       "      <td>3</td>\n",
       "    </tr>\n",
       "    <tr>\n",
       "      <th>19</th>\n",
       "      <td>2010</td>\n",
       "      <td>25</td>\n",
       "      <td>46</td>\n",
       "      <td>1</td>\n",
       "      <td>3</td>\n",
       "    </tr>\n",
       "    <tr>\n",
       "      <th>20</th>\n",
       "      <td>2009</td>\n",
       "      <td>84</td>\n",
       "      <td>75</td>\n",
       "      <td>3</td>\n",
       "      <td>3</td>\n",
       "    </tr>\n",
       "    <tr>\n",
       "      <th>21</th>\n",
       "      <td>2008</td>\n",
       "      <td>45</td>\n",
       "      <td>63</td>\n",
       "      <td>3</td>\n",
       "      <td>3</td>\n",
       "    </tr>\n",
       "    <tr>\n",
       "      <th>22</th>\n",
       "      <td>2007</td>\n",
       "      <td>1</td>\n",
       "      <td>83</td>\n",
       "      <td>2</td>\n",
       "      <td>1</td>\n",
       "    </tr>\n",
       "    <tr>\n",
       "      <th>23</th>\n",
       "      <td>2006</td>\n",
       "      <td>4</td>\n",
       "      <td>18</td>\n",
       "      <td>1</td>\n",
       "      <td>2</td>\n",
       "    </tr>\n",
       "    <tr>\n",
       "      <th>24</th>\n",
       "      <td>2005</td>\n",
       "      <td>58</td>\n",
       "      <td>97</td>\n",
       "      <td>3</td>\n",
       "      <td>2</td>\n",
       "    </tr>\n",
       "    <tr>\n",
       "      <th>25</th>\n",
       "      <td>2004</td>\n",
       "      <td>5</td>\n",
       "      <td>14</td>\n",
       "      <td>2</td>\n",
       "      <td>1</td>\n",
       "    </tr>\n",
       "    <tr>\n",
       "      <th>26</th>\n",
       "      <td>2003</td>\n",
       "      <td>745</td>\n",
       "      <td>83</td>\n",
       "      <td>3</td>\n",
       "      <td>3</td>\n",
       "    </tr>\n",
       "    <tr>\n",
       "      <th>27</th>\n",
       "      <td>2002</td>\n",
       "      <td>82</td>\n",
       "      <td>46</td>\n",
       "      <td>3</td>\n",
       "      <td>3</td>\n",
       "    </tr>\n",
       "    <tr>\n",
       "      <th>28</th>\n",
       "      <td>2001</td>\n",
       "      <td>55</td>\n",
       "      <td>37</td>\n",
       "      <td>3</td>\n",
       "      <td>3</td>\n",
       "    </tr>\n",
       "    <tr>\n",
       "      <th>29</th>\n",
       "      <td>2000</td>\n",
       "      <td>62</td>\n",
       "      <td>14</td>\n",
       "      <td>3</td>\n",
       "      <td>3</td>\n",
       "    </tr>\n",
       "    <tr>\n",
       "      <th>30</th>\n",
       "      <td>1999</td>\n",
       "      <td>11</td>\n",
       "      <td>29</td>\n",
       "      <td>3</td>\n",
       "      <td>3</td>\n",
       "    </tr>\n",
       "    <tr>\n",
       "      <th>31</th>\n",
       "      <td>1998</td>\n",
       "      <td>25</td>\n",
       "      <td>37</td>\n",
       "      <td>2</td>\n",
       "      <td>3</td>\n",
       "    </tr>\n",
       "    <tr>\n",
       "      <th>32</th>\n",
       "      <td>1997</td>\n",
       "      <td>82</td>\n",
       "      <td>35</td>\n",
       "      <td>3</td>\n",
       "      <td>2</td>\n",
       "    </tr>\n",
       "    <tr>\n",
       "      <th>33</th>\n",
       "      <td>1996</td>\n",
       "      <td>41</td>\n",
       "      <td>12</td>\n",
       "      <td>3</td>\n",
       "      <td>3</td>\n",
       "    </tr>\n",
       "    <tr>\n",
       "      <th>34</th>\n",
       "      <td>1998</td>\n",
       "      <td>1</td>\n",
       "      <td>1</td>\n",
       "      <td>2</td>\n",
       "      <td>3</td>\n",
       "    </tr>\n",
       "    <tr>\n",
       "      <th>35</th>\n",
       "      <td>1997</td>\n",
       "      <td>217</td>\n",
       "      <td>8</td>\n",
       "      <td>1</td>\n",
       "      <td>3</td>\n",
       "    </tr>\n",
       "    <tr>\n",
       "      <th>36</th>\n",
       "      <td>1996</td>\n",
       "      <td>0</td>\n",
       "      <td>4</td>\n",
       "      <td>3</td>\n",
       "      <td>3</td>\n",
       "    </tr>\n",
       "    <tr>\n",
       "      <th>37</th>\n",
       "      <td>1983</td>\n",
       "      <td>163</td>\n",
       "      <td>2</td>\n",
       "      <td>3</td>\n",
       "      <td>3</td>\n",
       "    </tr>\n",
       "    <tr>\n",
       "      <th>38</th>\n",
       "      <td>1982</td>\n",
       "      <td>51</td>\n",
       "      <td>7</td>\n",
       "      <td>2</td>\n",
       "      <td>3</td>\n",
       "    </tr>\n",
       "    <tr>\n",
       "      <th>39</th>\n",
       "      <td>1982</td>\n",
       "      <td>52</td>\n",
       "      <td>1</td>\n",
       "      <td>2</td>\n",
       "      <td>3</td>\n",
       "    </tr>\n",
       "    <tr>\n",
       "      <th>40</th>\n",
       "      <td>1982</td>\n",
       "      <td>4</td>\n",
       "      <td>26</td>\n",
       "      <td>2</td>\n",
       "      <td>3</td>\n",
       "    </tr>\n",
       "    <tr>\n",
       "      <th>41</th>\n",
       "      <td>1982</td>\n",
       "      <td>251</td>\n",
       "      <td>1</td>\n",
       "      <td>3</td>\n",
       "      <td>3</td>\n",
       "    </tr>\n",
       "  </tbody>\n",
       "</table>\n",
       "</div>"
      ],
      "text/plain": [
       "      PY   CR   TC  SO  DT\n",
       "0   2022   21   12   3   3\n",
       "1   2022  114    1   3   3\n",
       "2   2022   19    1   3   3\n",
       "3   2022   39    2   2   3\n",
       "4   2022   11    1   3   2\n",
       "5   2022   39    1   3   2\n",
       "6   2022  135   39   2   3\n",
       "7   2020   94   20   3   3\n",
       "8   2020    8    2   2   3\n",
       "9   2020  102    2   3   2\n",
       "10  2019   69   36   2   3\n",
       "11  2018   36   26   3   3\n",
       "12  2017    7   86   3   3\n",
       "13  2016   31    5   2   3\n",
       "14  2015   25   26   2   3\n",
       "15  2014   25   85   3   2\n",
       "16  2013   74  533   3   2\n",
       "17  2012   36   23   3   3\n",
       "18  2011   62   14   3   3\n",
       "19  2010   25   46   1   3\n",
       "20  2009   84   75   3   3\n",
       "21  2008   45   63   3   3\n",
       "22  2007    1   83   2   1\n",
       "23  2006    4   18   1   2\n",
       "24  2005   58   97   3   2\n",
       "25  2004    5   14   2   1\n",
       "26  2003  745   83   3   3\n",
       "27  2002   82   46   3   3\n",
       "28  2001   55   37   3   3\n",
       "29  2000   62   14   3   3\n",
       "30  1999   11   29   3   3\n",
       "31  1998   25   37   2   3\n",
       "32  1997   82   35   3   2\n",
       "33  1996   41   12   3   3\n",
       "34  1998    1    1   2   3\n",
       "35  1997  217    8   1   3\n",
       "36  1996    0    4   3   3\n",
       "37  1983  163    2   3   3\n",
       "38  1982   51    7   2   3\n",
       "39  1982   52    1   2   3\n",
       "40  1982    4   26   2   3\n",
       "41  1982  251    1   3   3"
      ]
     },
     "execution_count": 303,
     "metadata": {},
     "output_type": "execute_result"
    }
   ],
   "source": [
    "data1"
   ]
  },
  {
   "cell_type": "markdown",
   "metadata": {},
   "source": [
    "# MLP Algorithm"
   ]
  },
  {
   "cell_type": "code",
   "execution_count": 304,
   "metadata": {},
   "outputs": [
    {
     "name": "stdout",
     "output_type": "stream",
     "text": [
      "[[5 0]\n",
      " [0 6]]\n",
      "              precision    recall  f1-score   support\n",
      "\n",
      "        Raiz       1.00      1.00      1.00         5\n",
      "      Tronco       1.00      1.00      1.00         6\n",
      "\n",
      "    accuracy                           1.00        11\n",
      "   macro avg       1.00      1.00      1.00        11\n",
      "weighted avg       1.00      1.00      1.00        11\n",
      "\n"
     ]
    }
   ],
   "source": [
    "# Importando las librerías necesarias\n",
    "from sklearn.datasets import load_iris\n",
    "from sklearn.model_selection import train_test_split\n",
    "from sklearn.preprocessing import StandardScaler\n",
    "from sklearn.neural_network import MLPClassifier\n",
    "from sklearn.metrics import classification_report, confusion_matrix\n",
    "\n",
    "# Cargando el dataset Iris\n",
    "#iris = load_iris()\n",
    "\n",
    "# Dividiendo los datos en conjuntos de entrenamiento y prueba\n",
    "X_train, X_test, y_train, y_test = train_test_split(data1, data['label'], random_state=1)\n",
    "\n",
    "# Estandarizando los datos (es importante para la red neuronal)\n",
    "scaler = StandardScaler()\n",
    "scaler.fit(X_train)\n",
    "\n",
    "# Aplicando la transformación a los datos\n",
    "X_train = scaler.transform(X_train)\n",
    "X_test = scaler.transform(X_test)\n",
    "\n",
    "# Creando la red neuronal MLP\n",
    "mlp = MLPClassifier(hidden_layer_sizes=(10, 10, 10), max_iter=1000)\n",
    "\n",
    "# Entrenando la red neuronal\n",
    "mlp.fit(X_train, y_train)\n",
    "\n",
    "# Haciendo las predicciones\n",
    "predictions = mlp.predict(X_test)\n",
    "\n",
    "# Evaluando el modelo\n",
    "print(confusion_matrix(y_test,predictions))\n",
    "print(classification_report(y_test,predictions))"
   ]
  },
  {
   "cell_type": "code",
   "execution_count": 306,
   "metadata": {},
   "outputs": [
    {
     "name": "stdout",
     "output_type": "stream",
     "text": [
      "              precision    recall  f1-score  support\n",
      "Raiz           1.000000  0.000000  0.000000      5.0\n",
      "Hojas          1.000000  1.000000  1.000000      0.0\n",
      "Tronco         0.545455  1.000000  0.705882      6.0\n",
      "micro avg      0.545455  0.545455  0.545455     11.0\n",
      "macro avg      0.848485  0.666667  0.568627     11.0\n",
      "weighted avg   0.752066  0.545455  0.385027     11.0\n"
     ]
    }
   ],
   "source": [
    "import pandas as pd\n",
    "from sklearn.datasets import load_iris\n",
    "from sklearn.model_selection import train_test_split\n",
    "from sklearn.neural_network import MLPClassifier\n",
    "from sklearn.metrics import classification_report\n",
    "\n",
    "# Split dataset into training set and test set\n",
    "X_train, X_test, y_train, y_test = train_test_split(data1, data['label'], random_state=1)\n",
    "\n",
    "# Create MLPClassifier\n",
    "mlp = MLPClassifier(hidden_layer_sizes=(10, 10, 10), max_iter=1000)\n",
    "\n",
    "# Train the model\n",
    "mlp.fit(X_train, y_train)\n",
    "\n",
    "# Predict the response for test dataset\n",
    "y_pred = mlp.predict(X_test)\n",
    "\n",
    "# Get the unique target names\n",
    "target_names = data['label'].unique()\n",
    "\n",
    "# Create a classification report\n",
    "class_report = classification_report(y_test, y_pred, labels=target_names, target_names=target_names, output_dict=True, zero_division=1)\n",
    "\n",
    "# Print classification report dataframe\n",
    "report_df = pd.DataFrame(class_report).transpose()\n",
    "print(report_df)\n"
   ]
  },
  {
   "cell_type": "markdown",
   "metadata": {},
   "source": [
    "# MLP CLass --> SLN ???"
   ]
  },
  {
   "cell_type": "code",
   "execution_count": 309,
   "metadata": {},
   "outputs": [
    {
     "name": "stdout",
     "output_type": "stream",
     "text": [
      "Epoch 1/50\n",
      "2/2 [==============================] - 0s 98ms/step - loss: 0.1782 - val_loss: 0.1811\n",
      "Epoch 2/50\n",
      "2/2 [==============================] - 0s 21ms/step - loss: 0.1777 - val_loss: 0.1807\n",
      "Epoch 3/50\n",
      "2/2 [==============================] - 0s 23ms/step - loss: 0.1772 - val_loss: 0.1803\n",
      "Epoch 4/50\n",
      "2/2 [==============================] - 0s 24ms/step - loss: 0.1767 - val_loss: 0.1799\n",
      "Epoch 5/50\n",
      "2/2 [==============================] - 0s 31ms/step - loss: 0.1763 - val_loss: 0.1795\n",
      "Epoch 6/50\n",
      "2/2 [==============================] - 0s 24ms/step - loss: 0.1758 - val_loss: 0.1791\n",
      "Epoch 7/50\n",
      "2/2 [==============================] - 0s 25ms/step - loss: 0.1753 - val_loss: 0.1787\n",
      "Epoch 8/50\n",
      "2/2 [==============================] - 0s 23ms/step - loss: 0.1748 - val_loss: 0.1784\n",
      "Epoch 9/50\n",
      "2/2 [==============================] - 0s 24ms/step - loss: 0.1744 - val_loss: 0.1780\n",
      "Epoch 10/50\n",
      "2/2 [==============================] - 0s 25ms/step - loss: 0.1740 - val_loss: 0.1776\n",
      "Epoch 11/50\n",
      "2/2 [==============================] - 0s 26ms/step - loss: 0.1735 - val_loss: 0.1773\n",
      "Epoch 12/50\n",
      "2/2 [==============================] - 0s 32ms/step - loss: 0.1731 - val_loss: 0.1769\n",
      "Epoch 13/50\n",
      "2/2 [==============================] - 0s 45ms/step - loss: 0.1727 - val_loss: 0.1766\n",
      "Epoch 14/50\n",
      "2/2 [==============================] - 0s 45ms/step - loss: 0.1722 - val_loss: 0.1762\n",
      "Epoch 15/50\n",
      "2/2 [==============================] - 0s 57ms/step - loss: 0.1718 - val_loss: 0.1759\n",
      "Epoch 16/50\n",
      "2/2 [==============================] - 0s 47ms/step - loss: 0.1715 - val_loss: 0.1756\n",
      "Epoch 17/50\n",
      "2/2 [==============================] - 0s 64ms/step - loss: 0.1711 - val_loss: 0.1753\n",
      "Epoch 18/50\n",
      "2/2 [==============================] - 0s 100ms/step - loss: 0.1707 - val_loss: 0.1750\n",
      "Epoch 19/50\n",
      "2/2 [==============================] - 0s 53ms/step - loss: 0.1703 - val_loss: 0.1746\n",
      "Epoch 20/50\n",
      "2/2 [==============================] - 0s 57ms/step - loss: 0.1700 - val_loss: 0.1743\n",
      "Epoch 21/50\n",
      "2/2 [==============================] - 0s 63ms/step - loss: 0.1696 - val_loss: 0.1740\n",
      "Epoch 22/50\n",
      "2/2 [==============================] - 0s 46ms/step - loss: 0.1693 - val_loss: 0.1737\n",
      "Epoch 23/50\n",
      "2/2 [==============================] - 0s 41ms/step - loss: 0.1689 - val_loss: 0.1734\n",
      "Epoch 24/50\n",
      "2/2 [==============================] - 0s 31ms/step - loss: 0.1685 - val_loss: 0.1731\n",
      "Epoch 25/50\n",
      "2/2 [==============================] - 0s 51ms/step - loss: 0.1682 - val_loss: 0.1728\n",
      "Epoch 26/50\n",
      "2/2 [==============================] - 0s 45ms/step - loss: 0.1678 - val_loss: 0.1725\n",
      "Epoch 27/50\n",
      "2/2 [==============================] - 0s 62ms/step - loss: 0.1675 - val_loss: 0.1722\n",
      "Epoch 28/50\n",
      "2/2 [==============================] - 0s 49ms/step - loss: 0.1671 - val_loss: 0.1719\n",
      "Epoch 29/50\n",
      "2/2 [==============================] - 0s 53ms/step - loss: 0.1668 - val_loss: 0.1716\n",
      "Epoch 30/50\n",
      "2/2 [==============================] - 0s 57ms/step - loss: 0.1664 - val_loss: 0.1713\n",
      "Epoch 31/50\n",
      "2/2 [==============================] - 0s 58ms/step - loss: 0.1661 - val_loss: 0.1710\n",
      "Epoch 32/50\n",
      "2/2 [==============================] - 0s 46ms/step - loss: 0.1657 - val_loss: 0.1707\n",
      "Epoch 33/50\n",
      "2/2 [==============================] - 0s 47ms/step - loss: 0.1654 - val_loss: 0.1704\n",
      "Epoch 34/50\n",
      "2/2 [==============================] - 0s 36ms/step - loss: 0.1650 - val_loss: 0.1701\n",
      "Epoch 35/50\n",
      "2/2 [==============================] - 0s 35ms/step - loss: 0.1647 - val_loss: 0.1698\n",
      "Epoch 36/50\n",
      "2/2 [==============================] - 0s 32ms/step - loss: 0.1644 - val_loss: 0.1695\n",
      "Epoch 37/50\n",
      "2/2 [==============================] - 0s 32ms/step - loss: 0.1641 - val_loss: 0.1692\n",
      "Epoch 38/50\n",
      "2/2 [==============================] - 0s 31ms/step - loss: 0.1637 - val_loss: 0.1690\n",
      "Epoch 39/50\n",
      "2/2 [==============================] - 0s 29ms/step - loss: 0.1634 - val_loss: 0.1687\n",
      "Epoch 40/50\n",
      "2/2 [==============================] - 0s 30ms/step - loss: 0.1631 - val_loss: 0.1684\n",
      "Epoch 41/50\n",
      "2/2 [==============================] - 0s 34ms/step - loss: 0.1627 - val_loss: 0.1681\n",
      "Epoch 42/50\n",
      "2/2 [==============================] - 0s 35ms/step - loss: 0.1624 - val_loss: 0.1678\n",
      "Epoch 43/50\n",
      "2/2 [==============================] - 0s 31ms/step - loss: 0.1621 - val_loss: 0.1676\n",
      "Epoch 44/50\n",
      "2/2 [==============================] - 0s 34ms/step - loss: 0.1617 - val_loss: 0.1673\n",
      "Epoch 45/50\n",
      "2/2 [==============================] - 0s 34ms/step - loss: 0.1614 - val_loss: 0.1670\n",
      "Epoch 46/50\n",
      "2/2 [==============================] - 0s 63ms/step - loss: 0.1611 - val_loss: 0.1667\n",
      "Epoch 47/50\n",
      "2/2 [==============================] - 0s 60ms/step - loss: 0.1608 - val_loss: 0.1665\n",
      "Epoch 48/50\n",
      "2/2 [==============================] - 0s 72ms/step - loss: 0.1604 - val_loss: 0.1662\n",
      "Epoch 49/50\n",
      "2/2 [==============================] - 0s 48ms/step - loss: 0.1601 - val_loss: 0.1659\n",
      "Epoch 50/50\n",
      "2/2 [==============================] - 0s 49ms/step - loss: 0.1598 - val_loss: 0.1656\n",
      "2/2 [==============================] - 0s 2ms/step\n",
      "    feature1  feature2    cluster\n",
      "0   0.134884  0.000000  Cluster 3\n",
      "1   0.035643  0.000000  Cluster 3\n",
      "2   0.128093  0.000000  Cluster 3\n",
      "3   0.000000  0.000000  Cluster 3\n",
      "4   0.272279  0.000000  Cluster 3\n",
      "5   0.245031  0.000000  Cluster 3\n",
      "6   0.000000  0.000000  Cluster 3\n",
      "7   0.089627  0.000000  Cluster 3\n",
      "8   0.000000  0.000000  Cluster 3\n",
      "9   0.203945  0.000000  Cluster 3\n",
      "10  0.000000  0.000000  Cluster 3\n",
      "11  0.170264  0.000000  Cluster 3\n",
      "12  0.255859  0.000000  Cluster 3\n",
      "13  0.000000  0.000000  Cluster 3\n",
      "14  0.000000  0.000000  Cluster 3\n",
      "15  0.403092  0.000000  Cluster 3\n",
      "16  0.720972  0.000000  Cluster 3\n",
      "17  0.226168  0.000000  Cluster 3\n",
      "18  0.203432  0.000000  Cluster 3\n",
      "19  0.000000  0.031829  Cluster 3\n",
      "20  0.249904  0.000000  Cluster 3\n",
      "21  0.288039  0.000000  Cluster 3\n",
      "22  0.205095  0.000000  Cluster 3\n",
      "23  0.000000  0.000000  Cluster 3\n",
      "24  0.467939  0.000000  Cluster 3\n",
      "25  0.175538  0.000000  Cluster 3\n",
      "26  0.000000  0.000000  Cluster 3\n",
      "27  0.296816  0.000000  Cluster 3\n",
      "28  0.325657  0.000000  Cluster 3\n",
      "29  0.310290  0.000000  Cluster 3\n",
      "30  0.381550  0.000000  Cluster 3\n",
      "31  0.000000  0.000000  Cluster 3\n",
      "32  0.473052  0.000000  Cluster 3\n",
      "33  0.367995  0.000000  Cluster 3\n",
      "34  0.000000  0.000000  Cluster 3\n",
      "35  0.000000  0.000000  Cluster 3\n",
      "36  0.401540  0.000000  Cluster 3\n",
      "37  0.367615  0.000000  Cluster 3\n",
      "38  0.066128  0.000000  Cluster 3\n",
      "39  0.060389  0.000000  Cluster 3\n",
      "40  0.126958  0.000000  Cluster 3\n",
      "41  0.290898  0.000000  Cluster 3\n"
     ]
    }
   ],
   "source": [
    "import pandas as pd\n",
    "from sklearn.datasets import load_iris\n",
    "from sklearn.model_selection import train_test_split\n",
    "from sklearn.preprocessing import MinMaxScaler\n",
    "from keras.models import Model\n",
    "from keras.layers import Dense, Input\n",
    "import numpy as np\n",
    "\n",
    "# Load iris dataset\n",
    "\n",
    "X = data1\n",
    "\n",
    "# Normalize the dataset\n",
    "scaler = MinMaxScaler()\n",
    "X_scaled = scaler.fit_transform(X)\n",
    "\n",
    "# Split the dataset into training set and test set\n",
    "X_train, X_test = train_test_split(X_scaled, test_size=0.2, random_state=42)\n",
    "\n",
    "# Define the number of features\n",
    "ncol = X_scaled.shape[1]\n",
    "\n",
    "# Define the encoder dimension\n",
    "encoding_dim = 2\n",
    "\n",
    "# Define the encoder layers\n",
    "input_layer = Input(shape=(ncol, ))\n",
    "encoder_layer = Dense(encoding_dim, activation='relu')(input_layer)\n",
    "\n",
    "# Create the encoder model\n",
    "encoder = Model(inputs=input_layer, outputs=encoder_layer)\n",
    "\n",
    "# Define the decoder layers\n",
    "decoder_layer = Dense(ncol, activation='sigmoid')(encoder_layer)\n",
    "\n",
    "# Create the autoencoder model\n",
    "autoencoder = Model(inputs=input_layer, outputs=decoder_layer)\n",
    "\n",
    "# Compile the model\n",
    "autoencoder.compile(optimizer='adam', loss='mean_squared_error')\n",
    "\n",
    "# Train the model\n",
    "autoencoder.fit(X_train, X_train, epochs=50, batch_size=30, shuffle=True, validation_data=(X_test, X_test))\n",
    "\n",
    "# Use the encoder to obtain the reduced dimensionality data\n",
    "encoded_data = pd.DataFrame(encoder.predict(X_scaled))\n",
    "encoded_data.columns = ['feature1', 'feature2']\n",
    "\n",
    "# Add the cluster column to the encoded data\n",
    "encoded_data['cluster'] = np.where((encoded_data['feature1'] > 0.5) & (encoded_data['feature2'] > 0.5), 'Cluster 1',\n",
    "                                    np.where((encoded_data['feature1'] <= 0.5) & (encoded_data['feature2'] > 0.5), 'Cluster 2',\n",
    "                                            'Cluster 3'))\n",
    "print(encoded_data)"
   ]
  }
 ],
 "metadata": {
  "kernelspec": {
   "display_name": "Python 3.10.9 64-bit",
   "language": "python",
   "name": "python3"
  },
  "language_info": {
   "codemirror_mode": {
    "name": "ipython",
    "version": 3
   },
   "file_extension": ".py",
   "mimetype": "text/x-python",
   "name": "python",
   "nbconvert_exporter": "python",
   "pygments_lexer": "ipython3",
   "version": "3.10.9"
  },
  "orig_nbformat": 4,
  "vscode": {
   "interpreter": {
    "hash": "b0fa6594d8f4cbf19f97940f81e996739fb7646882a419484c72d19e05852a7e"
   }
  }
 },
 "nbformat": 4,
 "nbformat_minor": 2
}
